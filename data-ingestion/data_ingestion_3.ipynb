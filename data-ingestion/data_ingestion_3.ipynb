{
 "cells": [
  {
   "cell_type": "markdown",
   "metadata": {
    "application/vnd.databricks.v1+cell": {
     "cellMetadata": {
      "byteLimit": 2048000,
      "rowLimit": 10000
     },
     "inputWidgets": {},
     "nuid": "1771bd48-7831-4fbd-adc2-78c937f98eca",
     "showTitle": false,
     "title": ""
    }
   },
   "source": []
  },
  {
   "cell_type": "markdown",
   "metadata": {
    "application/vnd.databricks.v1+cell": {
     "cellMetadata": {
      "byteLimit": 2048000,
      "rowLimit": 10000
     },
     "inputWidgets": {},
     "nuid": "f3dbd217-b42a-434f-af05-a688c278f4f7",
     "showTitle": false,
     "title": ""
    }
   },
   "source": [
    "## 1. Create databases (AWS Cloud)"
   ]
  },
  {
   "cell_type": "code",
   "execution_count": 0,
   "metadata": {
    "application/vnd.databricks.v1+cell": {
     "cellMetadata": {
      "byteLimit": 2048000,
      "rowLimit": 10000
     },
     "inputWidgets": {},
     "nuid": "2dcdb5c5-b8c5-4d97-9ffc-61ea56b6c7da",
     "showTitle": false,
     "title": ""
    }
   },
   "outputs": [
    {
     "output_type": "stream",
     "name": "stdout",
     "output_type": "stream",
     "text": [
      "+------------------+\n|      databaseName|\n+------------------+\n|           default|\n|information_schema|\n|        wdi_curate|\n+------------------+\n\n"
     ]
    }
   ],
   "source": [
    "spark.sql(\"SHOW DATABASES\").show()"
   ]
  },
  {
   "cell_type": "code",
   "execution_count": 0,
   "metadata": {
    "application/vnd.databricks.v1+cell": {
     "cellMetadata": {
      "byteLimit": 2048000,
      "rowLimit": 10000
     },
     "inputWidgets": {},
     "nuid": "cd1f0b65-4004-4d71-893c-7aea80565726",
     "showTitle": false,
     "title": ""
    }
   },
   "outputs": [
    {
     "output_type": "stream",
     "name": "stdout",
     "output_type": "stream",
     "text": [
      "+--------------+\n|       catalog|\n+--------------+\n|     data_demo|\n|hive_metastore|\n|       samples|\n|        system|\n+--------------+\n\n"
     ]
    }
   ],
   "source": [
    "spark.sql(\"SHOW CATALOGS\").show()"
   ]
  },
  {
   "cell_type": "code",
   "execution_count": 0,
   "metadata": {
    "application/vnd.databricks.v1+cell": {
     "cellMetadata": {
      "byteLimit": 2048000,
      "implicitDf": true,
      "rowLimit": 10000
     },
     "inputWidgets": {},
     "nuid": "561a664a-76f1-4b23-a4c9-3e4490d3f47a",
     "showTitle": false,
     "title": ""
    }
   },
   "outputs": [
    {
     "output_type": "display_data",
     "data": {
      "text/html": [
       "<style scoped>\n",
       "  .table-result-container {\n",
       "    max-height: 300px;\n",
       "    overflow: auto;\n",
       "  }\n",
       "  table, th, td {\n",
       "    border: 1px solid black;\n",
       "    border-collapse: collapse;\n",
       "  }\n",
       "  th, td {\n",
       "    padding: 5px;\n",
       "  }\n",
       "  th {\n",
       "    text-align: left;\n",
       "  }\n",
       "</style><div class='table-result-container'><table class='table-result'><thead style='background-color: white'><tr></tr></thead><tbody></tbody></table></div>"
      ]
     },
     "metadata": {
      "application/vnd.databricks.v1+output": {
       "addedWidgets": {},
       "aggData": [],
       "aggError": "",
       "aggOverflow": false,
       "aggSchema": [],
       "aggSeriesLimitReached": false,
       "aggType": "",
       "arguments": {},
       "columnCustomDisplayInfos": {},
       "data": [],
       "datasetInfos": [],
       "dbfsResultPath": null,
       "isJsonSchema": true,
       "metadata": {
        "dataframeName": null
       },
       "overflow": false,
       "plotOptions": {
        "customPlotOptions": {},
        "displayType": "table",
        "pivotAggregation": null,
        "pivotColumns": null,
        "xColumns": null,
        "yColumns": null
       },
       "removedWidgets": [],
       "schema": [],
       "type": "table"
      }
     },
     "output_type": "display_data"
    }
   ],
   "source": [
    "%sql\n",
    "CREATE DATABASE IF NOT EXISTS data_demo.wdi_curate;\n",
    "CREATE DATABASE IF NOT EXISTS data_demo.eea_curated;"
   ]
  },
  {
   "cell_type": "code",
   "execution_count": 0,
   "metadata": {
    "application/vnd.databricks.v1+cell": {
     "cellMetadata": {
      "byteLimit": 2048000,
      "rowLimit": 10000
     },
     "inputWidgets": {},
     "nuid": "c4f5d316-33f2-43a0-b1f2-07231868a118",
     "showTitle": false,
     "title": ""
    }
   },
   "outputs": [
    {
     "output_type": "stream",
     "name": "stdout",
     "output_type": "stream",
     "text": [
      "+------------------+\n|      databaseName|\n+------------------+\n|           default|\n|       eea_curated|\n|information_schema|\n|        wdi_curate|\n+------------------+\n\n"
     ]
    }
   ],
   "source": [
    "spark.sql(\"SHOW DATABASES\").show()"
   ]
  },
  {
   "cell_type": "code",
   "execution_count": 0,
   "metadata": {
    "application/vnd.databricks.v1+cell": {
     "cellMetadata": {
      "byteLimit": 2048000,
      "rowLimit": 10000
     },
     "inputWidgets": {},
     "nuid": "f813c6c6-2f40-4844-94ae-ac2bdedc25b8",
     "showTitle": false,
     "title": ""
    }
   },
   "outputs": [
    {
     "output_type": "execute_result",
     "data": {
      "text/plain": [
       "DataFrame[]"
      ]
     },
     "execution_count": 40,
     "metadata": {},
     "output_type": "execute_result"
    }
   ],
   "source": [
    "spark.sql(\"USE data_demo.wdi_curate\")\n"
   ]
  },
  {
   "cell_type": "code",
   "execution_count": 0,
   "metadata": {
    "application/vnd.databricks.v1+cell": {
     "cellMetadata": {
      "byteLimit": 2048000,
      "implicitDf": true,
      "rowLimit": 10000
     },
     "inputWidgets": {},
     "nuid": "c048ca5f-b277-41ad-8df1-f000ec5db58e",
     "showTitle": false,
     "title": ""
    }
   },
   "outputs": [
    {
     "output_type": "display_data",
     "data": {
      "text/html": [
       "<style scoped>\n",
       "  .table-result-container {\n",
       "    max-height: 300px;\n",
       "    overflow: auto;\n",
       "  }\n",
       "  table, th, td {\n",
       "    border: 1px solid black;\n",
       "    border-collapse: collapse;\n",
       "  }\n",
       "  th, td {\n",
       "    padding: 5px;\n",
       "  }\n",
       "  th {\n",
       "    text-align: left;\n",
       "  }\n",
       "</style><div class='table-result-container'><table class='table-result'><thead style='background-color: white'><tr><th>current_database()</th></tr></thead><tbody><tr><td>wdi_curate</td></tr></tbody></table></div>"
      ]
     },
     "metadata": {
      "application/vnd.databricks.v1+output": {
       "addedWidgets": {},
       "aggData": [],
       "aggError": "",
       "aggOverflow": false,
       "aggSchema": [],
       "aggSeriesLimitReached": false,
       "aggType": "",
       "arguments": {},
       "columnCustomDisplayInfos": {},
       "data": [
        [
         "wdi_curate"
        ]
       ],
       "datasetInfos": [],
       "dbfsResultPath": null,
       "isJsonSchema": true,
       "metadata": {
        "dataframeName": "_sqldf",
        "executionCount": 41
       },
       "overflow": false,
       "plotOptions": {
        "customPlotOptions": {},
        "displayType": "table",
        "pivotAggregation": null,
        "pivotColumns": null,
        "xColumns": null,
        "yColumns": null
       },
       "removedWidgets": [],
       "schema": [
        {
         "metadata": "{\"__autoGeneratedAlias\":\"true\"}",
         "name": "current_database()",
         "type": "\"string\""
        }
       ],
       "type": "table"
      }
     },
     "output_type": "display_data"
    }
   ],
   "source": [
    "%sql\n",
    "\n",
    "SELECT current_schema();"
   ]
  },
  {
   "cell_type": "markdown",
   "metadata": {
    "application/vnd.databricks.v1+cell": {
     "cellMetadata": {
      "byteLimit": 2048000,
      "rowLimit": 10000
     },
     "inputWidgets": {},
     "nuid": "8415147d-1088-4ae1-b563-0b4bbde4da17",
     "showTitle": false,
     "title": ""
    }
   },
   "source": [
    "## 2. World Development Indicators data"
   ]
  },
  {
   "cell_type": "markdown",
   "metadata": {
    "application/vnd.databricks.v1+cell": {
     "cellMetadata": {
      "byteLimit": 2048000,
      "rowLimit": 10000
     },
     "inputWidgets": {},
     "nuid": "0bb37a67-dae3-42f2-8569-4f9519587fb6",
     "showTitle": false,
     "title": ""
    }
   },
   "source": [
    "## 2.1 Read on DataFrame\n"
   ]
  },
  {
   "cell_type": "code",
   "execution_count": 0,
   "metadata": {
    "application/vnd.databricks.v1+cell": {
     "cellMetadata": {
      "byteLimit": 2048000,
      "rowLimit": 10000
     },
     "inputWidgets": {},
     "nuid": "03e3b4ed-048e-4856-bea8-cef3b29c5a7c",
     "showTitle": false,
     "title": ""
    }
   },
   "outputs": [],
   "source": [
    "from datetime import datetime\n",
    "\n",
    "# Current date in YYYYMMDD format\n",
    "current_date = datetime.now().strftime(\"%Y%m%d\")\n",
    "\n",
    "df_world_data = (spark.read.format(\"csv\")\n",
    " .option(\"header\", \"true\")\n",
    " .load(f\"dbfs:/datalake/raw/world_development_indicators/date={current_date}/WDIData.csv\")\n",
    ")\n",
    "\n",
    "\n",
    "df_world_country = (spark.read.format(\"csv\")\n",
    "                    .option(\"header\", \"true\")\n",
    "                    .load(f\"dbfs:/datalake/raw/world_development_indicators/date={current_date}/WDICountry.csv\")\n",
    ")\n",
    "\n",
    "df_world_series = (spark.read.format(\"csv\")\n",
    "                   .option(\"header\", \"true\")\n",
    "                   .load(f\"dbfs:/datalake/raw/world_development_indicators/date={current_date}/WDISeries.csv\")\n",
    ")"
   ]
  },
  {
   "cell_type": "markdown",
   "metadata": {
    "application/vnd.databricks.v1+cell": {
     "cellMetadata": {
      "byteLimit": 2048000,
      "rowLimit": 10000
     },
     "inputWidgets": {},
     "nuid": "66a2cb93-3a0a-4382-9ac8-ac82d4f4c1d3",
     "showTitle": false,
     "title": ""
    }
   },
   "source": [
    "## 3 Rename columns"
   ]
  },
  {
   "cell_type": "code",
   "execution_count": 0,
   "metadata": {
    "application/vnd.databricks.v1+cell": {
     "cellMetadata": {
      "byteLimit": 2048000,
      "rowLimit": 10000
     },
     "inputWidgets": {},
     "nuid": "3af9643c-9a97-477f-b01b-01348a62bd87",
     "showTitle": false,
     "title": ""
    }
   },
   "outputs": [],
   "source": [
    "def rename_columns(df):\n",
    "    current_columns = df.columns\n",
    "    for col in current_columns:\n",
    "        new_col_name = col.replace(\" \", \"_\")\n",
    "        df = df.withColumnRenamed(col, new_col_name)\n",
    "    return df"
   ]
  },
  {
   "cell_type": "code",
   "execution_count": 0,
   "metadata": {
    "application/vnd.databricks.v1+cell": {
     "cellMetadata": {
      "byteLimit": 2048000,
      "rowLimit": 10000
     },
     "inputWidgets": {},
     "nuid": "d7cea3de-0dc8-4868-b5ce-6f6322ae880a",
     "showTitle": false,
     "title": ""
    }
   },
   "outputs": [],
   "source": [
    "df_world_data = rename_columns(df_world_data)\n",
    "\n",
    "df_world_country = rename_columns(df_world_country)\n",
    "\n",
    "df_world_series = rename_columns(df_world_series)"
   ]
  },
  {
   "cell_type": "code",
   "execution_count": 0,
   "metadata": {
    "application/vnd.databricks.v1+cell": {
     "cellMetadata": {
      "byteLimit": 2048000,
      "rowLimit": 10000
     },
     "inputWidgets": {},
     "nuid": "abb77ba0-b338-4dd4-8723-de89304cc119",
     "showTitle": false,
     "title": ""
    }
   },
   "outputs": [
    {
     "output_type": "execute_result",
     "data": {
      "text/plain": [
       "['Country_Code', 'Short_Name', 'Table_Name', 'Long_Name', '2-alpha_code']"
      ]
     },
     "execution_count": 46,
     "metadata": {},
     "output_type": "execute_result"
    }
   ],
   "source": [
    "df_world_country.columns[:5]"
   ]
  },
  {
   "cell_type": "code",
   "execution_count": 0,
   "metadata": {
    "application/vnd.databricks.v1+cell": {
     "cellMetadata": {
      "byteLimit": 2048000,
      "rowLimit": 10000
     },
     "inputWidgets": {},
     "nuid": "24049897-c690-4f15-b90c-008db70e941e",
     "showTitle": false,
     "title": ""
    }
   },
   "outputs": [
    {
     "output_type": "execute_result",
     "data": {
      "text/plain": [
       "['Series_Code',\n",
       " 'Topic',\n",
       " 'Indicator_Name',\n",
       " 'Short_definition',\n",
       " 'Long_definition']"
      ]
     },
     "execution_count": 47,
     "metadata": {},
     "output_type": "execute_result"
    }
   ],
   "source": [
    "\n",
    "\n",
    "df_world_series.columns[:5]"
   ]
  },
  {
   "cell_type": "markdown",
   "metadata": {
    "application/vnd.databricks.v1+cell": {
     "cellMetadata": {
      "byteLimit": 2048000,
      "rowLimit": 10000
     },
     "inputWidgets": {},
     "nuid": "68fc78fc-2880-4c04-b59e-cf89728f5186",
     "showTitle": false,
     "title": ""
    }
   },
   "source": [
    "## 4.1 Drop Null"
   ]
  },
  {
   "cell_type": "code",
   "execution_count": 0,
   "metadata": {
    "application/vnd.databricks.v1+cell": {
     "cellMetadata": {
      "byteLimit": 2048000,
      "rowLimit": 10000
     },
     "inputWidgets": {},
     "nuid": "6c95c1aa-4914-450b-9dca-fa0b633917a0",
     "showTitle": false,
     "title": ""
    }
   },
   "outputs": [],
   "source": [
    "df_world_data = df_world_data.dropna(how='all')\n",
    "\n",
    "df_world_country = df_world_country.dropna(how='all')\n",
    "\n",
    "df_world_series = df_world_series.dropna(how='all')\n",
    "\n"
   ]
  },
  {
   "cell_type": "markdown",
   "metadata": {
    "application/vnd.databricks.v1+cell": {
     "cellMetadata": {
      "byteLimit": 2048000,
      "rowLimit": 10000
     },
     "inputWidgets": {},
     "nuid": "09b4ee49-2725-4762-a2a2-e67be4ab65ec",
     "showTitle": false,
     "title": ""
    }
   },
   "source": [
    "## 4.2 Filtering DataFrame & Drop Duplicates"
   ]
  },
  {
   "cell_type": "code",
   "execution_count": 0,
   "metadata": {
    "application/vnd.databricks.v1+cell": {
     "cellMetadata": {
      "byteLimit": 2048000,
      "rowLimit": 10000
     },
     "inputWidgets": {},
     "nuid": "98d4c163-9c7e-4e99-9a5f-3684952d51b0",
     "showTitle": false,
     "title": ""
    }
   },
   "outputs": [
    {
     "output_type": "stream",
     "name": "stdout",
     "output_type": "stream",
     "text": [
      "Number of records of dataframe WDI_Data before dropping nulls: 395276\nNumber of records of dataframe WDI_Country before dropping nulls: 275\nNumber of records of dataframe WDI_Series before dropping nulls: 4454\n"
     ]
    }
   ],
   "source": [
    "dataframes = {\n",
    "  'WDI_Data'   : df_world_data,\n",
    "  'WDI_Country': df_world_country,\n",
    "  'WDI_Series' : df_world_series\n",
    "}\n",
    "for df_name, df in dataframes.items():\n",
    "  print(f'Number of records of dataframe {df_name} before dropping nulls: {df.count()}')\n",
    " "
   ]
  },
  {
   "cell_type": "markdown",
   "metadata": {
    "application/vnd.databricks.v1+cell": {
     "cellMetadata": {
      "byteLimit": 2048000,
      "rowLimit": 10000
     },
     "inputWidgets": {},
     "nuid": "2cd55c6d-64c4-434b-9f8b-99bbd41efc13",
     "showTitle": false,
     "title": ""
    }
   },
   "source": [
    "## 4 Filtering DataFrame & Drop Duplicates"
   ]
  },
  {
   "cell_type": "code",
   "execution_count": 0,
   "metadata": {
    "application/vnd.databricks.v1+cell": {
     "cellMetadata": {
      "byteLimit": 2048000,
      "rowLimit": 10000
     },
     "inputWidgets": {},
     "nuid": "1a82e16c-d74c-48f2-b5e4-3e914edf81a0",
     "showTitle": false,
     "title": ""
    }
   },
   "outputs": [
    {
     "output_type": "stream",
     "name": "stdout",
     "output_type": "stream",
     "text": [
      "Number of records of dataframe WDI_Data after dropping nulls: 395276\nNumber of records of dataframe WDI_Country after dropping nulls: 275\nNumber of records of dataframe WDI_Series after dropping nulls: 2399\n"
     ]
    }
   ],
   "source": [
    "\n",
    "df_world_data = df_world_data.dropDuplicates()\n",
    "df_world_country = df_world_country.dropDuplicates()\n",
    "df_world_series = df_world_series.dropDuplicates()\n",
    "\n",
    "dataframes = {\n",
    "  'WDI_Data'   : df_world_data,\n",
    "  'WDI_Country': df_world_country,\n",
    "  'WDI_Series' : df_world_series\n",
    "}\n",
    "for df_name, df in dataframes.items():\n",
    "  \n",
    "  print(f'Number of records of dataframe {df_name} after dropping nulls: {dataframes[df_name].count()}')"
   ]
  },
  {
   "cell_type": "markdown",
   "metadata": {
    "application/vnd.databricks.v1+cell": {
     "cellMetadata": {
      "byteLimit": 2048000,
      "rowLimit": 10000
     },
     "inputWidgets": {},
     "nuid": "fbd6f764-d0a1-4800-97b2-ba6f0f7e95a8",
     "showTitle": false,
     "title": ""
    }
   },
   "source": [
    "## For the WDICountry.csv and WDIData.csv files"
   ]
  },
  {
   "cell_type": "code",
   "execution_count": 0,
   "metadata": {
    "application/vnd.databricks.v1+cell": {
     "cellMetadata": {
      "byteLimit": 2048000,
      "rowLimit": 10000
     },
     "inputWidgets": {},
     "nuid": "f1b678b9-2f03-41e4-ac08-9017c84e2351",
     "showTitle": false,
     "title": ""
    }
   },
   "outputs": [],
   "source": [
    "from pyspark.sql.functions import length, col\n",
    "\n",
    "df_world_data = df_world_data.where(length(df_world_data[\"Country_Code\"]) == 3)\n",
    "df_world_country = df_world_country.where(length(df_world_country[\"Country_Code\"]) == 3)\n"
   ]
  },
  {
   "cell_type": "markdown",
   "metadata": {
    "application/vnd.databricks.v1+cell": {
     "cellMetadata": {
      "byteLimit": 2048000,
      "rowLimit": 10000
     },
     "inputWidgets": {},
     "nuid": "4fb2fd84-507f-42f1-a01a-202b9e5d095c",
     "showTitle": false,
     "title": ""
    }
   },
   "source": [
    "## For WDISeries.csv"
   ]
  },
  {
   "cell_type": "code",
   "execution_count": 0,
   "metadata": {
    "application/vnd.databricks.v1+cell": {
     "cellMetadata": {
      "byteLimit": 2048000,
      "rowLimit": 10000
     },
     "inputWidgets": {},
     "nuid": "696f1ac2-e8f9-4cb6-99a1-c1d64394f973",
     "showTitle": false,
     "title": ""
    }
   },
   "outputs": [],
   "source": [
    "\n",
    "df_world_series  = df_world_series.where(~col(\"Series_Code\").contains(\" \"))"
   ]
  },
  {
   "cell_type": "markdown",
   "metadata": {
    "application/vnd.databricks.v1+cell": {
     "cellMetadata": {
      "byteLimit": 2048000,
      "rowLimit": 10000
     },
     "inputWidgets": {},
     "nuid": "c8630b51-f290-4309-8a3e-100202c17d47",
     "showTitle": false,
     "title": ""
    }
   },
   "source": [
    "## 5. Write the data to the data lake’s curated layer on DBFS"
   ]
  },
  {
   "cell_type": "code",
   "execution_count": 0,
   "metadata": {
    "application/vnd.databricks.v1+cell": {
     "cellMetadata": {
      "byteLimit": 2048000,
      "rowLimit": 10000
     },
     "inputWidgets": {},
     "nuid": "dbc89a01-2b8c-4158-b9fd-80a68282d264",
     "showTitle": false,
     "title": ""
    }
   },
   "outputs": [],
   "source": [
    "from datetime import datetime\n",
    "\n",
    "\n",
    "# Get the current date\n",
    "current_date = datetime.now()\n",
    "year = current_date.strftime(\"%Y\")\n",
    "month = current_date.strftime(\"%m\")\n",
    "day = current_date.strftime(\"%d\")\n",
    "\n",
    "#partition ='20240313'\n",
    "dbfs_base_path   = 'dbfs:/datalake/curated/wdi'\n",
    "output_partition = f'year={year}/month={month}/day={day}/'\n",
    "#save_path='dbfs:/datalake/curated/wdi/data/year=2024/month=03/day=13/'\n",
    "\n",
    "data_wdi_curate = {\n",
    "  'data'   : df_world_data,\n",
    "  'country': df_world_country,\n",
    "  'series' : df_world_series\n",
    "}\n",
    "\n",
    "for name, df in data_wdi_curate.items():\n",
    "  (\n",
    "    data_wdi_curate[name]\n",
    "    .coalesce(1)\n",
    "    .write\n",
    "    .mode(\"overwrite\")\n",
    "    .format('parquet')\n",
    "    .option('path', f'{dbfs_base_path}/{name}/{output_partition}')\n",
    "    .save()\n",
    "  )\n"
   ]
  },
  {
   "cell_type": "code",
   "execution_count": 0,
   "metadata": {
    "application/vnd.databricks.v1+cell": {
     "cellMetadata": {
      "byteLimit": 2048000,
      "rowLimit": 10000
     },
     "inputWidgets": {},
     "nuid": "1c26dccc-4e0f-4d68-b795-73211a5b4b4d",
     "showTitle": false,
     "title": ""
    }
   },
   "outputs": [
    {
     "output_type": "stream",
     "name": "stdout",
     "output_type": "stream",
     "text": [
      "+--------------+\n|       catalog|\n+--------------+\n|     data_demo|\n|hive_metastore|\n|       samples|\n|        system|\n+--------------+\n\n"
     ]
    }
   ],
   "source": [
    "spark.sql(\"SHOW CATALOGS\").show()"
   ]
  },
  {
   "cell_type": "code",
   "execution_count": 0,
   "metadata": {
    "application/vnd.databricks.v1+cell": {
     "cellMetadata": {
      "byteLimit": 2048000,
      "rowLimit": 10000
     },
     "inputWidgets": {},
     "nuid": "6c6b4e15-6d0e-4077-9d53-69d38205c1b6",
     "showTitle": false,
     "title": ""
    }
   },
   "outputs": [
    {
     "output_type": "stream",
     "name": "stdout",
     "output_type": "stream",
     "text": [
      "+------------------+\n|      databaseName|\n+------------------+\n|           default|\n|       eea_curated|\n|information_schema|\n|        wdi_curate|\n+------------------+\n\n"
     ]
    }
   ],
   "source": [
    "spark.sql(\"SHOW DATABASES\").show()"
   ]
  },
  {
   "cell_type": "code",
   "execution_count": 0,
   "metadata": {
    "application/vnd.databricks.v1+cell": {
     "cellMetadata": {
      "byteLimit": 2048000,
      "rowLimit": 10000
     },
     "inputWidgets": {},
     "nuid": "7033854b-1497-4388-b281-6393683d1e75",
     "showTitle": false,
     "title": ""
    }
   },
   "outputs": [],
   "source": [
    "data_wdi_curate = {\n",
    "  'data'   : df_world_data,\n",
    "  'country': df_world_country,\n",
    "  'series' : df_world_series\n",
    "}\n",
    "# Specify the S3 bucket and path\n",
    "s3_bucket = \"databricks-workspace-stack-10fab-bucket\"\n",
    "s3_path = \"unity-catalog/1803637943354536\"\n",
    "\n",
    "\n",
    "# Create an external table\n",
    "spark.sql(\"USE data_demo.wdi_curate\")\n",
    "for name, df in data_wdi_curate.items():\n",
    "\n",
    "    # Write the DataFrame to S3 in Parquet format\n",
    "    df_temp_path = f\"s3a://{s3_bucket}/{s3_path}/temp_{name}\"\n",
    "    data_wdi_curate[name].write.mode(\"overwrite\").parquet(df_temp_path)\n",
    "\n",
    "    spark.sql(f\"\"\"\n",
    "    CREATE TABLE IF NOT EXISTS {name}\n",
    "    USING PARQUET\n",
    "    LOCATION '{df_temp_path}'\n",
    "    \"\"\")\n"
   ]
  },
  {
   "cell_type": "markdown",
   "metadata": {
    "application/vnd.databricks.v1+cell": {
     "cellMetadata": {},
     "inputWidgets": {},
     "nuid": "bd182035-1e61-46e1-910e-bf1d5745ca66",
     "showTitle": false,
     "title": ""
    }
   },
   "source": [
    "## 6. For the CO2 emissions data"
   ]
  },
  {
   "cell_type": "code",
   "execution_count": 0,
   "metadata": {
    "application/vnd.databricks.v1+cell": {
     "cellMetadata": {
      "byteLimit": 2048000,
      "implicitDf": true,
      "rowLimit": 10000
     },
     "inputWidgets": {},
     "nuid": "6fd45268-aca9-4066-a40e-333b75037a1c",
     "showTitle": false,
     "title": ""
    }
   },
   "outputs": [],
   "source": [
    "input_path = \"/datalake/raw/co2_passenger_cars_emissions\"\n",
    "df_co2_emissions = spark.read.option(\"multiline\", \"true\").json(input_path)\n"
   ]
  },
  {
   "cell_type": "markdown",
   "metadata": {
    "application/vnd.databricks.v1+cell": {
     "cellMetadata": {},
     "inputWidgets": {},
     "nuid": "48f31c8c-15b9-4405-9944-f1bbd645e608",
     "showTitle": false,
     "title": ""
    }
   },
   "source": [
    "## 7. Replace spaces in column names with underscores (“_”)"
   ]
  },
  {
   "cell_type": "code",
   "execution_count": 0,
   "metadata": {
    "application/vnd.databricks.v1+cell": {
     "cellMetadata": {
      "byteLimit": 2048000,
      "rowLimit": 10000
     },
     "inputWidgets": {},
     "nuid": "78b7f5b3-5c06-495d-b04a-694a4c43d30a",
     "showTitle": false,
     "title": ""
    }
   },
   "outputs": [],
   "source": [
    "# Renaming the columns\n",
    "for col_name in df_co2_emissions.columns:\n",
    "    new_col_name = col_name.replace(' ', '_').replace('(', '').replace(')', '')\n",
    "    df_co2_emissions = df_co2_emissions.withColumnRenamed(col_name, new_col_name)\n"
   ]
  },
  {
   "cell_type": "code",
   "execution_count": 0,
   "metadata": {
    "application/vnd.databricks.v1+cell": {
     "cellMetadata": {
      "byteLimit": 2048000,
      "rowLimit": 10000
     },
     "inputWidgets": {},
     "nuid": "31ae590a-e1bd-43f6-ab6e-fd25b21d0617",
     "showTitle": false,
     "title": ""
    }
   },
   "outputs": [
    {
     "output_type": "execute_result",
     "data": {
      "text/plain": [
       "['At1_mm', 'At2_mm', 'Cn', 'Cr', 'Ct']"
      ]
     },
     "execution_count": 59,
     "metadata": {},
     "output_type": "execute_result"
    }
   ],
   "source": [
    "df_co2_emissions.columns[:5]"
   ]
  },
  {
   "cell_type": "code",
   "execution_count": 0,
   "metadata": {
    "application/vnd.databricks.v1+cell": {
     "cellMetadata": {
      "byteLimit": 2048000,
      "rowLimit": 10000
     },
     "inputWidgets": {},
     "nuid": "04277d70-5ef3-4976-a722-802b39a7a7de",
     "showTitle": false,
     "title": ""
    }
   },
   "outputs": [
    {
     "output_type": "stream",
     "name": "stdout",
     "output_type": "stream",
     "text": [
      "Number of records of dataframe co2_emissions before dropping nulls: 300000\n"
     ]
    }
   ],
   "source": [
    "print(f'Number of records of dataframe co2_emissions before dropping nulls: {df_co2_emissions.count()}')\n",
    "\n"
   ]
  },
  {
   "cell_type": "code",
   "execution_count": 0,
   "metadata": {
    "application/vnd.databricks.v1+cell": {
     "cellMetadata": {
      "byteLimit": 2048000,
      "rowLimit": 10000
     },
     "inputWidgets": {},
     "nuid": "cb385322-e71b-4d2a-a76a-234a794ecf86",
     "showTitle": false,
     "title": ""
    }
   },
   "outputs": [
    {
     "output_type": "stream",
     "name": "stdout",
     "output_type": "stream",
     "text": [
      "Number of records of dataframe co2_emissions after dropping nulls: 300000\n"
     ]
    }
   ],
   "source": [
    "\n",
    "df_co2_emissions = df_co2_emissions.dropna(how='all')\n",
    "\n",
    "print(f'Number of records of dataframe co2_emissions after dropping nulls: {df_co2_emissions.count()}')"
   ]
  },
  {
   "cell_type": "markdown",
   "metadata": {
    "application/vnd.databricks.v1+cell": {
     "cellMetadata": {},
     "inputWidgets": {},
     "nuid": "6904c6c1-ff17-499e-8947-6a8ba5cf310e",
     "showTitle": false,
     "title": ""
    }
   },
   "source": [
    "## 8. Apply data quality filters on the CO2 emissions DataFrame"
   ]
  },
  {
   "cell_type": "code",
   "execution_count": 0,
   "metadata": {
    "application/vnd.databricks.v1+cell": {
     "cellMetadata": {
      "byteLimit": 2048000,
      "rowLimit": 10000
     },
     "inputWidgets": {},
     "nuid": "abacca97-f612-4dfd-8bcb-d0dc8e10307c",
     "showTitle": false,
     "title": ""
    }
   },
   "outputs": [],
   "source": [
    "\n",
    "df_co2_emissions = df_co2_emissions.dropDuplicates()\n",
    "\n",
    "df_co2_emissions = df_co2_emissions.where(length(df_co2_emissions[\"MS\"]) == 2)\n",
    "\n",
    "df_co2_emissions = df_co2_emissions.filter(col(\"MS\").rlike(\"^[A-Z]{2}$\"))\n"
   ]
  },
  {
   "cell_type": "markdown",
   "metadata": {
    "application/vnd.databricks.v1+cell": {
     "cellMetadata": {},
     "inputWidgets": {},
     "nuid": "7d8e101e-cf86-475b-9203-972a7ea88c79",
     "showTitle": false,
     "title": ""
    }
   },
   "source": [
    "## 9.1 Write the data to the data lake’s curated layer on DBFS"
   ]
  },
  {
   "cell_type": "code",
   "execution_count": 0,
   "metadata": {
    "application/vnd.databricks.v1+cell": {
     "cellMetadata": {
      "byteLimit": 2048000,
      "rowLimit": 10000
     },
     "inputWidgets": {},
     "nuid": "46695acd-59ea-4097-876e-427034fc6721",
     "showTitle": false,
     "title": ""
    }
   },
   "outputs": [],
   "source": [
    "\n",
    "# Path to the curated layer in DBFS\n",
    "path_to_write = \"dbfs:/datalake/curated/co2_emissions/\"\n",
    "\n",
    "# Write the DataFrame to Parquet, dynamically partitioned by 'year'\n",
    "df_co2_emissions.write.partitionBy(\"year\").mode(\"overwrite\").parquet(path_to_write)"
   ]
  },
  {
   "cell_type": "markdown",
   "metadata": {
    "application/vnd.databricks.v1+cell": {
     "cellMetadata": {},
     "inputWidgets": {},
     "nuid": "3a373c07-e6fb-4f94-8bfc-d435d821620c",
     "showTitle": false,
     "title": ""
    }
   },
   "source": [
    "## 9.2 Create external table "
   ]
  },
  {
   "cell_type": "code",
   "execution_count": 0,
   "metadata": {
    "application/vnd.databricks.v1+cell": {
     "cellMetadata": {
      "byteLimit": 2048000,
      "rowLimit": 10000
     },
     "inputWidgets": {},
     "nuid": "303b991b-4b67-44e9-9ac6-9856cc06f987",
     "showTitle": false,
     "title": ""
    }
   },
   "outputs": [
    {
     "output_type": "execute_result",
     "data": {
      "text/plain": [
       "DataFrame[]"
      ]
     },
     "execution_count": 68,
     "metadata": {},
     "output_type": "execute_result"
    }
   ],
   "source": [
    "# Specify the S3 bucket and path\n",
    "s3_bucket = \"databricks-workspace-stack-10fab-bucket\"\n",
    "s3_path = \"unity-catalog/1803637943354536\"\n",
    "\n",
    "\n",
    "# Create an external table\n",
    "spark.sql(\"USE data_demo.eea_curated\")\n",
    "\n",
    "# Write the DataFrame to S3 in Parquet format\n",
    "df_temp_path = f\"s3a://{s3_bucket}/{s3_path}/temp0\"\n",
    "df_co2_emissions.write.mode(\"overwrite\").parquet(df_temp_path)\n",
    "\n",
    "spark.sql(f\"\"\"\n",
    "CREATE TABLE IF NOT EXISTS co2_emissions\n",
    "USING PARQUET\n",
    "LOCATION '{df_temp_path}'\n",
    "\"\"\")\n"
   ]
  }
 ],
 "metadata": {
  "application/vnd.databricks.v1+notebook": {
   "dashboards": [],
   "language": "python",
   "notebookMetadata": {
    "mostRecentlyExecutedCommandWithImplicitDF": {
     "commandId": 1090765146158737,
     "dataframes": [
      "_sqldf"
     ]
    },
    "pythonIndentUnit": 4
   },
   "notebookName": "3_milestone_data_ingestion",
   "widgets": {}
  }
 },
 "nbformat": 4,
 "nbformat_minor": 0
}
