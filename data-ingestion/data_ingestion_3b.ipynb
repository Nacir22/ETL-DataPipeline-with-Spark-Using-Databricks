{
 "cells": [
  {
   "cell_type": "markdown",
   "metadata": {
    "application/vnd.databricks.v1+cell": {
     "cellMetadata": {
      "byteLimit": 2048000,
      "rowLimit": 10000
     },
     "inputWidgets": {},
     "nuid": "1771bd48-7831-4fbd-adc2-78c937f98eca",
     "showTitle": false,
     "title": ""
    }
   },
   "source": []
  },
  {
   "cell_type": "code",
   "execution_count": null,
   "metadata": {
    "application/vnd.databricks.v1+cell": {
     "cellMetadata": {
      "byteLimit": 2048000,
      "rowLimit": 10000
     },
     "inputWidgets": {},
     "nuid": "65377512-c44f-4dba-a647-38cd08cf8af3",
     "showTitle": false,
     "title": ""
    }
   },
   "outputs": [],
   "source": []
  },
  {
   "cell_type": "markdown",
   "metadata": {
    "application/vnd.databricks.v1+cell": {
     "cellMetadata": {
      "byteLimit": 2048000,
      "rowLimit": 10000
     },
     "inputWidgets": {},
     "nuid": "f3dbd217-b42a-434f-af05-a688c278f4f7",
     "showTitle": false,
     "title": ""
    }
   },
   "source": [
    "## Create databases"
   ]
  },
  {
   "cell_type": "code",
   "execution_count": null,
   "metadata": {
    "application/vnd.databricks.v1+cell": {
     "cellMetadata": {
      "byteLimit": 2048000,
      "rowLimit": 10000
     },
     "inputWidgets": {},
     "nuid": "2dcdb5c5-b8c5-4d97-9ffc-61ea56b6c7da",
     "showTitle": false,
     "title": ""
    }
   },
   "outputs": [
    {
     "name": "stdout",
     "output_type": "stream",
     "text": [
      "+------------------+\n",
      "|      databaseName|\n",
      "+------------------+\n",
      "|           default|\n",
      "|       eea_curated|\n",
      "|information_schema|\n",
      "|        wdi_curate|\n",
      "+------------------+\n",
      "\n"
     ]
    }
   ],
   "source": [
    "spark.sql(\"SHOW DATABASES\").show()"
   ]
  },
  {
   "cell_type": "code",
   "execution_count": null,
   "metadata": {
    "application/vnd.databricks.v1+cell": {
     "cellMetadata": {
      "byteLimit": 2048000,
      "rowLimit": 10000
     },
     "inputWidgets": {},
     "nuid": "cd1f0b65-4004-4d71-893c-7aea80565726",
     "showTitle": false,
     "title": ""
    }
   },
   "outputs": [
    {
     "name": "stdout",
     "output_type": "stream",
     "text": [
      "+--------------+\n",
      "|       catalog|\n",
      "+--------------+\n",
      "|     data_demo|\n",
      "|hive_metastore|\n",
      "|       samples|\n",
      "|        system|\n",
      "+--------------+\n",
      "\n"
     ]
    }
   ],
   "source": [
    "spark.sql(\"SHOW CATALOGS\").show()"
   ]
  },
  {
   "cell_type": "code",
   "execution_count": null,
   "metadata": {
    "application/vnd.databricks.v1+cell": {
     "cellMetadata": {
      "byteLimit": 2048000,
      "implicitDf": true,
      "rowLimit": 10000
     },
     "inputWidgets": {},
     "nuid": "561a664a-76f1-4b23-a4c9-3e4490d3f47a",
     "showTitle": false,
     "title": ""
    }
   },
   "outputs": [
    {
     "data": {
      "text/html": [
       "<style scoped>\n",
       "  .table-result-container {\n",
       "    max-height: 300px;\n",
       "    overflow: auto;\n",
       "  }\n",
       "  table, th, td {\n",
       "    border: 1px solid black;\n",
       "    border-collapse: collapse;\n",
       "  }\n",
       "  th, td {\n",
       "    padding: 5px;\n",
       "  }\n",
       "  th {\n",
       "    text-align: left;\n",
       "  }\n",
       "</style><div class='table-result-container'><table class='table-result'><thead style='background-color: white'><tr></tr></thead><tbody></tbody></table></div>"
      ]
     },
     "metadata": {
      "application/vnd.databricks.v1+output": {
       "addedWidgets": {},
       "aggData": [],
       "aggError": "",
       "aggOverflow": false,
       "aggSchema": [],
       "aggSeriesLimitReached": false,
       "aggType": "",
       "arguments": {},
       "columnCustomDisplayInfos": {},
       "data": [],
       "datasetInfos": [],
       "dbfsResultPath": null,
       "isJsonSchema": true,
       "metadata": {
        "dataframeName": null
       },
       "overflow": false,
       "plotOptions": {
        "customPlotOptions": {},
        "displayType": "table",
        "pivotAggregation": null,
        "pivotColumns": null,
        "xColumns": null,
        "yColumns": null
       },
       "removedWidgets": [],
       "schema": [],
       "type": "table"
      }
     },
     "output_type": "display_data"
    }
   ],
   "source": [
    "%sql\n",
    "CREATE DATABASE IF NOT EXISTS data_demo.wdi_curate;\n",
    "CREATE DATABASE IF NOT EXISTS data_demo.eea_curated;"
   ]
  },
  {
   "cell_type": "code",
   "execution_count": null,
   "metadata": {
    "application/vnd.databricks.v1+cell": {
     "cellMetadata": {
      "byteLimit": 2048000,
      "rowLimit": 10000
     },
     "inputWidgets": {},
     "nuid": "c4f5d316-33f2-43a0-b1f2-07231868a118",
     "showTitle": false,
     "title": ""
    }
   },
   "outputs": [
    {
     "name": "stdout",
     "output_type": "stream",
     "text": [
      "+------------------+\n",
      "|      databaseName|\n",
      "+------------------+\n",
      "|           default|\n",
      "|       eea_curated|\n",
      "|information_schema|\n",
      "|        wdi_curate|\n",
      "+------------------+\n",
      "\n"
     ]
    }
   ],
   "source": [
    "spark.sql(\"SHOW DATABASES\").show()"
   ]
  },
  {
   "cell_type": "code",
   "execution_count": null,
   "metadata": {
    "application/vnd.databricks.v1+cell": {
     "cellMetadata": {
      "byteLimit": 2048000,
      "rowLimit": 10000
     },
     "inputWidgets": {},
     "nuid": "f813c6c6-2f40-4844-94ae-ac2bdedc25b8",
     "showTitle": false,
     "title": ""
    }
   },
   "outputs": [
    {
     "data": {
      "text/plain": [
       "DataFrame[]"
      ]
     },
     "execution_count": 223,
     "metadata": {},
     "output_type": "execute_result"
    }
   ],
   "source": [
    "spark.sql(\"USE data_demo.wdi_curate\")\n"
   ]
  },
  {
   "cell_type": "code",
   "execution_count": null,
   "metadata": {
    "application/vnd.databricks.v1+cell": {
     "cellMetadata": {
      "byteLimit": 2048000,
      "implicitDf": true,
      "rowLimit": 10000
     },
     "inputWidgets": {},
     "nuid": "c048ca5f-b277-41ad-8df1-f000ec5db58e",
     "showTitle": false,
     "title": ""
    }
   },
   "outputs": [
    {
     "data": {
      "text/html": [
       "<style scoped>\n",
       "  .table-result-container {\n",
       "    max-height: 300px;\n",
       "    overflow: auto;\n",
       "  }\n",
       "  table, th, td {\n",
       "    border: 1px solid black;\n",
       "    border-collapse: collapse;\n",
       "  }\n",
       "  th, td {\n",
       "    padding: 5px;\n",
       "  }\n",
       "  th {\n",
       "    text-align: left;\n",
       "  }\n",
       "</style><div class='table-result-container'><table class='table-result'><thead style='background-color: white'><tr><th>current_database()</th></tr></thead><tbody><tr><td>wdi_curate</td></tr></tbody></table></div>"
      ]
     },
     "metadata": {
      "application/vnd.databricks.v1+output": {
       "addedWidgets": {},
       "aggData": [],
       "aggError": "",
       "aggOverflow": false,
       "aggSchema": [],
       "aggSeriesLimitReached": false,
       "aggType": "",
       "arguments": {},
       "columnCustomDisplayInfos": {},
       "data": [
        [
         "wdi_curate"
        ]
       ],
       "datasetInfos": [],
       "dbfsResultPath": null,
       "isJsonSchema": true,
       "metadata": {
        "dataframeName": "_sqldf",
        "executionCount": 224
       },
       "overflow": false,
       "plotOptions": {
        "customPlotOptions": {},
        "displayType": "table",
        "pivotAggregation": null,
        "pivotColumns": null,
        "xColumns": null,
        "yColumns": null
       },
       "removedWidgets": [],
       "schema": [
        {
         "metadata": "{\"__autoGeneratedAlias\":\"true\"}",
         "name": "current_database()",
         "type": "\"string\""
        }
       ],
       "type": "table"
      }
     },
     "output_type": "display_data"
    }
   ],
   "source": [
    "%sql\n",
    "\n",
    "SELECT current_schema();"
   ]
  },
  {
   "cell_type": "markdown",
   "metadata": {
    "application/vnd.databricks.v1+cell": {
     "cellMetadata": {
      "byteLimit": 2048000,
      "rowLimit": 10000
     },
     "inputWidgets": {},
     "nuid": "8415147d-1088-4ae1-b563-0b4bbde4da17",
     "showTitle": false,
     "title": ""
    }
   },
   "source": [
    "World Development Indicators data"
   ]
  },
  {
   "cell_type": "code",
   "execution_count": null,
   "metadata": {
    "application/vnd.databricks.v1+cell": {
     "cellMetadata": {
      "byteLimit": 2048000,
      "rowLimit": 10000
     },
     "inputWidgets": {},
     "nuid": "0bb37a67-dae3-42f2-8569-4f9519587fb6",
     "showTitle": false,
     "title": ""
    }
   },
   "outputs": [],
   "source": [
    "df_world_data = spark.read.format(\"csv\")\\\n",
    ".option(\"header\", \"true\")\\\n",
    "    .load(\"dbfs:/datalake/raw/world_development_indicators/date=20240313/WDIData.csv\")\n"
   ]
  },
  {
   "cell_type": "code",
   "execution_count": null,
   "metadata": {
    "application/vnd.databricks.v1+cell": {
     "cellMetadata": {
      "byteLimit": 2048000,
      "rowLimit": 10000
     },
     "inputWidgets": {},
     "nuid": "03e3b4ed-048e-4856-bea8-cef3b29c5a7c",
     "showTitle": false,
     "title": ""
    }
   },
   "outputs": [],
   "source": [
    "df_world_data = spark.read.format(\"csv\").option(\"header\", \"true\").load(\"dbfs:/datalake/raw/world_development_indicators/date=20240313/WDIData.csv\")\n",
    "df_world_country = spark.read.format(\"csv\").option(\"header\", \"true\").load(\"dbfs:/datalake/raw/world_development_indicators/date=20240313/WDICountry.csv\")\n",
    "df_world_series = spark.read.format(\"csv\").option(\"header\", \"true\").load(\"dbfs:/datalake/raw/world_development_indicators/date=20240313/WDISeries.csv\")"
   ]
  },
  {
   "cell_type": "code",
   "execution_count": null,
   "metadata": {
    "application/vnd.databricks.v1+cell": {
     "cellMetadata": {
      "byteLimit": 2048000,
      "rowLimit": 10000
     },
     "inputWidgets": {},
     "nuid": "3af9643c-9a97-477f-b01b-01348a62bd87",
     "showTitle": false,
     "title": ""
    }
   },
   "outputs": [],
   "source": [
    "def rename_columns(df):\n",
    "    current_columns = df.columns\n",
    "    for col in current_columns:\n",
    "        new_col_name = col.replace(\" \", \"_\")\n",
    "        df = df.withColumnRenamed(col, new_col_name)\n",
    "    return df"
   ]
  },
  {
   "cell_type": "code",
   "execution_count": null,
   "metadata": {
    "application/vnd.databricks.v1+cell": {
     "cellMetadata": {
      "byteLimit": 2048000,
      "rowLimit": 10000
     },
     "inputWidgets": {},
     "nuid": "d7cea3de-0dc8-4868-b5ce-6f6322ae880a",
     "showTitle": false,
     "title": ""
    }
   },
   "outputs": [],
   "source": [
    "df_world_data = rename_columns(df_world_data)\n",
    "\n",
    "df_world_country = rename_columns(df_world_country)\n",
    "\n",
    "df_world_series = rename_columns(df_world_series)"
   ]
  },
  {
   "cell_type": "code",
   "execution_count": null,
   "metadata": {
    "application/vnd.databricks.v1+cell": {
     "cellMetadata": {
      "byteLimit": 2048000,
      "rowLimit": 10000
     },
     "inputWidgets": {},
     "nuid": "abb77ba0-b338-4dd4-8723-de89304cc119",
     "showTitle": false,
     "title": ""
    }
   },
   "outputs": [
    {
     "data": {
      "text/plain": [
       "['Country_Code', 'Short_Name', 'Table_Name', 'Long_Name', '2-alpha_code']"
      ]
     },
     "execution_count": 288,
     "metadata": {},
     "output_type": "execute_result"
    }
   ],
   "source": [
    "df_world_country.columns[:5]"
   ]
  },
  {
   "cell_type": "code",
   "execution_count": null,
   "metadata": {
    "application/vnd.databricks.v1+cell": {
     "cellMetadata": {
      "byteLimit": 2048000,
      "rowLimit": 10000
     },
     "inputWidgets": {},
     "nuid": "24049897-c690-4f15-b90c-008db70e941e",
     "showTitle": false,
     "title": ""
    }
   },
   "outputs": [
    {
     "data": {
      "text/plain": [
       "['Series_Code',\n",
       " 'Topic',\n",
       " 'Indicator_Name',\n",
       " 'Short_definition',\n",
       " 'Long_definition',\n",
       " 'Unit_of_measure',\n",
       " 'Periodicity',\n",
       " 'Base_Period',\n",
       " 'Other_notes',\n",
       " 'Aggregation_method',\n",
       " 'Limitations_and_exceptions',\n",
       " 'Notes_from_original_source',\n",
       " 'General_comments',\n",
       " 'Source',\n",
       " 'Statistical_concept_and_methodology',\n",
       " 'Development_relevance',\n",
       " 'Related_source_links',\n",
       " 'Other_web_links',\n",
       " 'Related_indicators',\n",
       " 'License_Type',\n",
       " '_c20']"
      ]
     },
     "execution_count": 231,
     "metadata": {},
     "output_type": "execute_result"
    }
   ],
   "source": [
    "df_world_series.columns"
   ]
  },
  {
   "cell_type": "code",
   "execution_count": null,
   "metadata": {
    "application/vnd.databricks.v1+cell": {
     "cellMetadata": {
      "byteLimit": 2048000,
      "rowLimit": 10000
     },
     "inputWidgets": {},
     "nuid": "6c95c1aa-4914-450b-9dca-fa0b633917a0",
     "showTitle": false,
     "title": ""
    }
   },
   "outputs": [],
   "source": [
    "df_world_data = df_world_data.dropna(how='all')\n",
    "\n",
    "df_world_country = df_world_country.dropna(how='all')\n",
    "\n",
    "df_world_series = df_world_series.dropna(how='all')\n",
    "\n"
   ]
  },
  {
   "cell_type": "code",
   "execution_count": null,
   "metadata": {
    "application/vnd.databricks.v1+cell": {
     "cellMetadata": {
      "byteLimit": 2048000,
      "rowLimit": 10000
     },
     "inputWidgets": {},
     "nuid": "98d4c163-9c7e-4e99-9a5f-3684952d51b0",
     "showTitle": false,
     "title": ""
    }
   },
   "outputs": [
    {
     "name": "stdout",
     "output_type": "stream",
     "text": [
      "Number of records of dataframe WDI_Data before dropping nulls: 395276\n",
      "Number of records of dataframe WDI_Country before dropping nulls: 275\n",
      "Number of records of dataframe WDI_Series before dropping nulls: 4454\n"
     ]
    }
   ],
   "source": [
    "dataframes = {\n",
    "  'WDI_Data'   : df_world_data,\n",
    "  'WDI_Country': df_world_country,\n",
    "  'WDI_Series' : df_world_series\n",
    "}\n",
    "for df_name, df in dataframes.items():\n",
    "  print(f'Number of records of dataframe {df_name} before dropping nulls: {df.count()}')\n",
    " "
   ]
  },
  {
   "cell_type": "code",
   "execution_count": null,
   "metadata": {
    "application/vnd.databricks.v1+cell": {
     "cellMetadata": {
      "byteLimit": 2048000,
      "rowLimit": 10000
     },
     "inputWidgets": {},
     "nuid": "1a82e16c-d74c-48f2-b5e4-3e914edf81a0",
     "showTitle": false,
     "title": ""
    }
   },
   "outputs": [
    {
     "name": "stdout",
     "output_type": "stream",
     "text": [
      "Number of records of dataframe WDI_Data after dropping nulls: 395276\n",
      "Number of records of dataframe WDI_Country after dropping nulls: 275\n",
      "Number of records of dataframe WDI_Series after dropping nulls: 2399\n"
     ]
    }
   ],
   "source": [
    "\n",
    "df_world_data = df_world_data.dropDuplicates()\n",
    "df_world_country = df_world_country.dropDuplicates()\n",
    "df_world_series = df_world_series.dropDuplicates()\n",
    "\n",
    "dataframes = {\n",
    "  'WDI_Data'   : df_world_data,\n",
    "  'WDI_Country': df_world_country,\n",
    "  'WDI_Series' : df_world_series\n",
    "}\n",
    "for df_name, df in dataframes.items():\n",
    "  \n",
    "  print(f'Number of records of dataframe {df_name} after dropping nulls: {dataframes[df_name].count()}')"
   ]
  },
  {
   "cell_type": "code",
   "execution_count": null,
   "metadata": {
    "application/vnd.databricks.v1+cell": {
     "cellMetadata": {
      "byteLimit": 2048000,
      "rowLimit": 10000
     },
     "inputWidgets": {},
     "nuid": "f1b678b9-2f03-41e4-ac08-9017c84e2351",
     "showTitle": false,
     "title": ""
    }
   },
   "outputs": [],
   "source": [
    "from pyspark.sql.functions import length, col\n",
    "\n",
    "df_world_data = df_world_data.where(length(df_world_data[\"Country_Code\"]) == 3)\n",
    "df_world_country = df_world_country.where(length(df_world_country[\"Country_Code\"]) == 3)\n",
    "\n",
    "df_world_series  = df_world_series.where(~col(\"Series_Code\").contains(\" \"))"
   ]
  },
  {
   "cell_type": "code",
   "execution_count": null,
   "metadata": {
    "application/vnd.databricks.v1+cell": {
     "cellMetadata": {
      "byteLimit": 2048000,
      "rowLimit": 10000
     },
     "inputWidgets": {},
     "nuid": "dbc89a01-2b8c-4158-b9fd-80a68282d264",
     "showTitle": false,
     "title": ""
    }
   },
   "outputs": [],
   "source": [
    "partition ='20240313'\n",
    "dbfs_base_path   = 'dbfs:/datalake/curated/wdi'\n",
    "output_partition = f'year={partition[:4]}/month={partition[4:6]}/day={partition[6:]}/'\n",
    "save_path='dbfs:/datalake/curated/wdi/data/year=2024/month=03/day=13/'\n",
    "\n",
    "(\n",
    "  df_world_data\n",
    "  .coalesce(1)\n",
    "  .write\n",
    "   .mode(\"overwrite\")\n",
    "  .format('parquet')\n",
    "  .option('path', f'{dbfs_base_path}/data/{output_partition}')\n",
    "  .save()\n",
    ")\n"
   ]
  },
  {
   "cell_type": "code",
   "execution_count": null,
   "metadata": {
    "application/vnd.databricks.v1+cell": {
     "cellMetadata": {
      "byteLimit": 2048000,
      "rowLimit": 10000
     },
     "inputWidgets": {},
     "nuid": "1c26dccc-4e0f-4d68-b795-73211a5b4b4d",
     "showTitle": false,
     "title": ""
    }
   },
   "outputs": [
    {
     "name": "stdout",
     "output_type": "stream",
     "text": [
      "+--------------+\n",
      "|       catalog|\n",
      "+--------------+\n",
      "|     data_demo|\n",
      "|hive_metastore|\n",
      "|       samples|\n",
      "|        system|\n",
      "+--------------+\n",
      "\n"
     ]
    }
   ],
   "source": [
    "spark.sql(\"SHOW CATALOGS\").show()"
   ]
  },
  {
   "cell_type": "code",
   "execution_count": null,
   "metadata": {
    "application/vnd.databricks.v1+cell": {
     "cellMetadata": {
      "byteLimit": 2048000,
      "rowLimit": 10000
     },
     "inputWidgets": {},
     "nuid": "6c6b4e15-6d0e-4077-9d53-69d38205c1b6",
     "showTitle": false,
     "title": ""
    }
   },
   "outputs": [
    {
     "name": "stdout",
     "output_type": "stream",
     "text": [
      "+------------------+\n",
      "|      databaseName|\n",
      "+------------------+\n",
      "|           default|\n",
      "|       eea_curated|\n",
      "|information_schema|\n",
      "|        wdi_curate|\n",
      "+------------------+\n",
      "\n"
     ]
    }
   ],
   "source": [
    "spark.sql(\"SHOW DATABASES\").show()"
   ]
  },
  {
   "cell_type": "code",
   "execution_count": null,
   "metadata": {
    "application/vnd.databricks.v1+cell": {
     "cellMetadata": {
      "byteLimit": 2048000,
      "rowLimit": 10000
     },
     "inputWidgets": {},
     "nuid": "7033854b-1497-4388-b281-6393683d1e75",
     "showTitle": false,
     "title": ""
    }
   },
   "outputs": [],
   "source": [
    "data_wdi_curate = {\n",
    "  'data'   : df_world_data,\n",
    "  'country': df_world_country,\n",
    "  'series' : df_world_series\n",
    "}\n",
    "# Specify the S3 bucket and path\n",
    "s3_bucket = \"databricks-workspace-stack-10fab-bucket\"\n",
    "s3_path = \"unity-catalog/1803637943354536\"\n",
    "\n",
    "# Write the DataFrame to S3 in Parquet format\n",
    "df_temp_path = f\"s3a://{s3_bucket}/{s3_path}/temp\"\n",
    "#dataframes['WDI_Data'].write.mode(\"overwrite\").parquet(df_temp_path)\n",
    "\n",
    "# Create an external table\n",
    "spark.sql(\"USE data_demo.wdi_curate\")\n",
    "for name, df in data_wdi_curate.items():\n",
    "\n",
    "    # Write the DataFrame to S3 in Parquet format\n",
    "    df_temp_path = f\"s3a://{s3_bucket}/{s3_path}/temp_{name}\"\n",
    "    data_wdi_curate[name].write.mode(\"overwrite\").parquet(df_temp_path)\n",
    "\n",
    "    spark.sql(f\"\"\"\n",
    "    CREATE TABLE IF NOT EXISTS {name}\n",
    "    USING PARQUET\n",
    "    LOCATION '{df_temp_path}'\n",
    "    \"\"\")\n"
   ]
  },
  {
   "cell_type": "code",
   "execution_count": null,
   "metadata": {
    "application/vnd.databricks.v1+cell": {
     "cellMetadata": {
      "byteLimit": 2048000,
      "implicitDf": true,
      "rowLimit": 10000
     },
     "inputWidgets": {},
     "nuid": "6fd45268-aca9-4066-a40e-333b75037a1c",
     "showTitle": false,
     "title": ""
    }
   },
   "outputs": [
    {
     "data": {
      "text/html": [
       "<div>\n",
       "<style scoped>\n",
       "    .dataframe tbody tr th:only-of-type {\n",
       "        vertical-align: middle;\n",
       "    }\n",
       "\n",
       "    .dataframe tbody tr th {\n",
       "        vertical-align: top;\n",
       "    }\n",
       "\n",
       "    .dataframe thead th {\n",
       "        text-align: right;\n",
       "    }\n",
       "</style>\n",
       "<table border=\"1\" class=\"dataframe\">\n",
       "  <thead>\n",
       "    <tr style=\"text-align: right;\">\n",
       "      <th></th>\n",
       "      <th>At1 (mm)</th>\n",
       "      <th>At2 (mm)</th>\n",
       "      <th>Cn</th>\n",
       "      <th>Cr</th>\n",
       "      <th>Ct</th>\n",
       "      <th>De</th>\n",
       "      <th>Dr</th>\n",
       "      <th>E (g/km)</th>\n",
       "      <th>Ec (cm3)</th>\n",
       "      <th>Enedc (g/km)</th>\n",
       "      <th>Ep (KW)</th>\n",
       "      <th>Er (g/km)</th>\n",
       "      <th>Ernedc (g/km)</th>\n",
       "      <th>Erwltp (g/km)</th>\n",
       "      <th>Ewltp (g/km)</th>\n",
       "      <th>Fc</th>\n",
       "      <th>Fm</th>\n",
       "      <th>Ft</th>\n",
       "      <th>ID</th>\n",
       "      <th>IT</th>\n",
       "      <th>M (kg)</th>\n",
       "      <th>MMS</th>\n",
       "      <th>MS</th>\n",
       "      <th>Man</th>\n",
       "      <th>Mh</th>\n",
       "      <th>Mk</th>\n",
       "      <th>Mp</th>\n",
       "      <th>Mt</th>\n",
       "      <th>R</th>\n",
       "      <th>Status</th>\n",
       "      <th>T</th>\n",
       "      <th>TAN</th>\n",
       "      <th>VFN</th>\n",
       "      <th>Va</th>\n",
       "      <th>Ve</th>\n",
       "      <th>Version_file</th>\n",
       "      <th>Vf</th>\n",
       "      <th>W (mm)</th>\n",
       "      <th>Year</th>\n",
       "      <th>Z (Wh/km)</th>\n",
       "      <th>Zr</th>\n",
       "      <th>emissions</th>\n",
       "    </tr>\n",
       "  </thead>\n",
       "  <tbody>\n",
       "    <tr>\n",
       "      <th>0</th>\n",
       "      <td>1679.0</td>\n",
       "      <td>1632.0</td>\n",
       "      <td>458 SPECIALE A AD S-A</td>\n",
       "      <td></td>\n",
       "      <td>M1</td>\n",
       "      <td>None</td>\n",
       "      <td>None</td>\n",
       "      <td>None</td>\n",
       "      <td>4497.0</td>\n",
       "      <td>559</td>\n",
       "      <td>NaN</td>\n",
       "      <td>None</td>\n",
       "      <td>NaN</td>\n",
       "      <td>NaN</td>\n",
       "      <td>NaN</td>\n",
       "      <td>None</td>\n",
       "      <td>M</td>\n",
       "      <td>petrol</td>\n",
       "      <td>416839</td>\n",
       "      <td></td>\n",
       "      <td>1485.0</td>\n",
       "      <td>FERRARI</td>\n",
       "      <td>GB</td>\n",
       "      <td>FERRARI SPA</td>\n",
       "      <td>FERRARI</td>\n",
       "      <td>FERRARI</td>\n",
       "      <td></td>\n",
       "      <td>NaN</td>\n",
       "      <td>1</td>\n",
       "      <td>F</td>\n",
       "      <td>F142</td>\n",
       "      <td>e3*2007/46*0040*10</td>\n",
       "      <td></td>\n",
       "      <td>AB</td>\n",
       "      <td>L</td>\n",
       "      <td>v16</td>\n",
       "      <td>None</td>\n",
       "      <td>2650.0</td>\n",
       "      <td>2017</td>\n",
       "      <td>NaN</td>\n",
       "      <td>None</td>\n",
       "      <td>559</td>\n",
       "    </tr>\n",
       "    <tr>\n",
       "      <th>1</th>\n",
       "      <td>1679.0</td>\n",
       "      <td>1632.0</td>\n",
       "      <td>458 SPECIALE A AD S-A</td>\n",
       "      <td></td>\n",
       "      <td>M1</td>\n",
       "      <td>None</td>\n",
       "      <td>None</td>\n",
       "      <td>None</td>\n",
       "      <td>4497.0</td>\n",
       "      <td>559</td>\n",
       "      <td>NaN</td>\n",
       "      <td>None</td>\n",
       "      <td>NaN</td>\n",
       "      <td>NaN</td>\n",
       "      <td>NaN</td>\n",
       "      <td>None</td>\n",
       "      <td>M</td>\n",
       "      <td>petrol</td>\n",
       "      <td>416839</td>\n",
       "      <td></td>\n",
       "      <td>1485.0</td>\n",
       "      <td>FERRARI</td>\n",
       "      <td>GB</td>\n",
       "      <td>FERRARI SPA</td>\n",
       "      <td>FERRARI</td>\n",
       "      <td>FERRARI</td>\n",
       "      <td></td>\n",
       "      <td>NaN</td>\n",
       "      <td>1</td>\n",
       "      <td>P</td>\n",
       "      <td>F142</td>\n",
       "      <td>e3*2007/46*0040*10</td>\n",
       "      <td></td>\n",
       "      <td>AB</td>\n",
       "      <td>L</td>\n",
       "      <td>v15</td>\n",
       "      <td>None</td>\n",
       "      <td>2650.0</td>\n",
       "      <td>2017</td>\n",
       "      <td>NaN</td>\n",
       "      <td>None</td>\n",
       "      <td>559</td>\n",
       "    </tr>\n",
       "    <tr>\n",
       "      <th>2</th>\n",
       "      <td>NaN</td>\n",
       "      <td>NaN</td>\n",
       "      <td>AUDI A8</td>\n",
       "      <td>M1</td>\n",
       "      <td>M1</td>\n",
       "      <td>None</td>\n",
       "      <td>None</td>\n",
       "      <td>None</td>\n",
       "      <td>3993.0</td>\n",
       "      <td>545</td>\n",
       "      <td>420.0</td>\n",
       "      <td>None</td>\n",
       "      <td>NaN</td>\n",
       "      <td>NaN</td>\n",
       "      <td>NaN</td>\n",
       "      <td>None</td>\n",
       "      <td>M</td>\n",
       "      <td>PETROL</td>\n",
       "      <td>1360362</td>\n",
       "      <td></td>\n",
       "      <td>NaN</td>\n",
       "      <td>AUDI AG</td>\n",
       "      <td>DE</td>\n",
       "      <td>AA-IVA</td>\n",
       "      <td>AA-IVA</td>\n",
       "      <td></td>\n",
       "      <td></td>\n",
       "      <td>NaN</td>\n",
       "      <td>4</td>\n",
       "      <td>P</td>\n",
       "      <td>F8</td>\n",
       "      <td></td>\n",
       "      <td></td>\n",
       "      <td></td>\n",
       "      <td></td>\n",
       "      <td>v15</td>\n",
       "      <td>None</td>\n",
       "      <td>NaN</td>\n",
       "      <td>2017</td>\n",
       "      <td>NaN</td>\n",
       "      <td>None</td>\n",
       "      <td>545</td>\n",
       "    </tr>\n",
       "    <tr>\n",
       "      <th>3</th>\n",
       "      <td>NaN</td>\n",
       "      <td>NaN</td>\n",
       "      <td>AUDI A8</td>\n",
       "      <td>M1</td>\n",
       "      <td>M1</td>\n",
       "      <td>None</td>\n",
       "      <td>None</td>\n",
       "      <td>None</td>\n",
       "      <td>3993.0</td>\n",
       "      <td>545</td>\n",
       "      <td>420.0</td>\n",
       "      <td>None</td>\n",
       "      <td>NaN</td>\n",
       "      <td>NaN</td>\n",
       "      <td>NaN</td>\n",
       "      <td>None</td>\n",
       "      <td>M</td>\n",
       "      <td>PETROL</td>\n",
       "      <td>1360362</td>\n",
       "      <td></td>\n",
       "      <td>NaN</td>\n",
       "      <td>AUDI AG</td>\n",
       "      <td>DE</td>\n",
       "      <td>AA-IVA</td>\n",
       "      <td>AA-IVA</td>\n",
       "      <td></td>\n",
       "      <td></td>\n",
       "      <td>NaN</td>\n",
       "      <td>4</td>\n",
       "      <td>F</td>\n",
       "      <td>F8</td>\n",
       "      <td></td>\n",
       "      <td></td>\n",
       "      <td></td>\n",
       "      <td></td>\n",
       "      <td>v16</td>\n",
       "      <td>None</td>\n",
       "      <td>0.0</td>\n",
       "      <td>2017</td>\n",
       "      <td>NaN</td>\n",
       "      <td>None</td>\n",
       "      <td>545</td>\n",
       "    </tr>\n",
       "    <tr>\n",
       "      <th>4</th>\n",
       "      <td>1714.0</td>\n",
       "      <td>1617.0</td>\n",
       "      <td>BUGATTIGRANDSPORTVITESSE</td>\n",
       "      <td>M1</td>\n",
       "      <td>M1</td>\n",
       "      <td>None</td>\n",
       "      <td>None</td>\n",
       "      <td>None</td>\n",
       "      <td>7993.0</td>\n",
       "      <td>539</td>\n",
       "      <td>882.0</td>\n",
       "      <td>None</td>\n",
       "      <td>NaN</td>\n",
       "      <td>NaN</td>\n",
       "      <td>NaN</td>\n",
       "      <td>None</td>\n",
       "      <td>M</td>\n",
       "      <td>PETROL</td>\n",
       "      <td>1406058</td>\n",
       "      <td></td>\n",
       "      <td>2065.0</td>\n",
       "      <td>BUGATTI (F)</td>\n",
       "      <td>DE</td>\n",
       "      <td>BUGATTI AUTOMOBILES SAS</td>\n",
       "      <td>BUGATTI</td>\n",
       "      <td>BUGATTI</td>\n",
       "      <td>VW GROUP PC</td>\n",
       "      <td>NaN</td>\n",
       "      <td>1</td>\n",
       "      <td>F</td>\n",
       "      <td>5B</td>\n",
       "      <td>E1*KS07/46*0008*03</td>\n",
       "      <td></td>\n",
       "      <td>AEXCLBAX1</td>\n",
       "      <td>AA7AD71C001S</td>\n",
       "      <td>v16</td>\n",
       "      <td>None</td>\n",
       "      <td>2710.0</td>\n",
       "      <td>2017</td>\n",
       "      <td>NaN</td>\n",
       "      <td>None</td>\n",
       "      <td>539</td>\n",
       "    </tr>\n",
       "    <tr>\n",
       "      <th>...</th>\n",
       "      <td>...</td>\n",
       "      <td>...</td>\n",
       "      <td>...</td>\n",
       "      <td>...</td>\n",
       "      <td>...</td>\n",
       "      <td>...</td>\n",
       "      <td>...</td>\n",
       "      <td>...</td>\n",
       "      <td>...</td>\n",
       "      <td>...</td>\n",
       "      <td>...</td>\n",
       "      <td>...</td>\n",
       "      <td>...</td>\n",
       "      <td>...</td>\n",
       "      <td>...</td>\n",
       "      <td>...</td>\n",
       "      <td>...</td>\n",
       "      <td>...</td>\n",
       "      <td>...</td>\n",
       "      <td>...</td>\n",
       "      <td>...</td>\n",
       "      <td>...</td>\n",
       "      <td>...</td>\n",
       "      <td>...</td>\n",
       "      <td>...</td>\n",
       "      <td>...</td>\n",
       "      <td>...</td>\n",
       "      <td>...</td>\n",
       "      <td>...</td>\n",
       "      <td>...</td>\n",
       "      <td>...</td>\n",
       "      <td>...</td>\n",
       "      <td>...</td>\n",
       "      <td>...</td>\n",
       "      <td>...</td>\n",
       "      <td>...</td>\n",
       "      <td>...</td>\n",
       "      <td>...</td>\n",
       "      <td>...</td>\n",
       "      <td>...</td>\n",
       "      <td>...</td>\n",
       "      <td>...</td>\n",
       "    </tr>\n",
       "    <tr>\n",
       "      <th>99995</th>\n",
       "      <td>1583.0</td>\n",
       "      <td>1583.0</td>\n",
       "      <td>M2</td>\n",
       "      <td>M1</td>\n",
       "      <td>M1</td>\n",
       "      <td>None</td>\n",
       "      <td>None</td>\n",
       "      <td>None</td>\n",
       "      <td>2979.0</td>\n",
       "      <td>185</td>\n",
       "      <td>272.0</td>\n",
       "      <td>None</td>\n",
       "      <td>NaN</td>\n",
       "      <td>NaN</td>\n",
       "      <td>NaN</td>\n",
       "      <td>None</td>\n",
       "      <td>M</td>\n",
       "      <td>Petrol</td>\n",
       "      <td>4526776</td>\n",
       "      <td></td>\n",
       "      <td>1595.0</td>\n",
       "      <td>BMW M GMBH</td>\n",
       "      <td>FR</td>\n",
       "      <td>BMW M GMBH</td>\n",
       "      <td>BMW GMBH</td>\n",
       "      <td>BMW</td>\n",
       "      <td>BMW GROUP</td>\n",
       "      <td>NaN</td>\n",
       "      <td>1</td>\n",
       "      <td>P</td>\n",
       "      <td>M3</td>\n",
       "      <td>e1*2007/46*0377*12</td>\n",
       "      <td></td>\n",
       "      <td>1H91</td>\n",
       "      <td>6A040000</td>\n",
       "      <td>v15</td>\n",
       "      <td>None</td>\n",
       "      <td>2693.0</td>\n",
       "      <td>2017</td>\n",
       "      <td>NaN</td>\n",
       "      <td>None</td>\n",
       "      <td>185</td>\n",
       "    </tr>\n",
       "    <tr>\n",
       "      <th>99996</th>\n",
       "      <td>1583.0</td>\n",
       "      <td>1583.0</td>\n",
       "      <td>M2</td>\n",
       "      <td>M1</td>\n",
       "      <td>M1</td>\n",
       "      <td>None</td>\n",
       "      <td>None</td>\n",
       "      <td>None</td>\n",
       "      <td>2979.0</td>\n",
       "      <td>185</td>\n",
       "      <td>272.0</td>\n",
       "      <td>None</td>\n",
       "      <td>NaN</td>\n",
       "      <td>NaN</td>\n",
       "      <td>NaN</td>\n",
       "      <td>None</td>\n",
       "      <td>M</td>\n",
       "      <td>Petrol</td>\n",
       "      <td>4526783</td>\n",
       "      <td></td>\n",
       "      <td>1595.0</td>\n",
       "      <td>BMW M GMBH</td>\n",
       "      <td>FR</td>\n",
       "      <td>BMW M GMBH</td>\n",
       "      <td>BMW GMBH</td>\n",
       "      <td>BMW</td>\n",
       "      <td>BMW GROUP</td>\n",
       "      <td>NaN</td>\n",
       "      <td>1</td>\n",
       "      <td>F</td>\n",
       "      <td>M3</td>\n",
       "      <td>e1*2007/46*0377*12</td>\n",
       "      <td></td>\n",
       "      <td>1H91</td>\n",
       "      <td>6A040000</td>\n",
       "      <td>v16</td>\n",
       "      <td>None</td>\n",
       "      <td>2693.0</td>\n",
       "      <td>2017</td>\n",
       "      <td>NaN</td>\n",
       "      <td>None</td>\n",
       "      <td>185</td>\n",
       "    </tr>\n",
       "    <tr>\n",
       "      <th>99997</th>\n",
       "      <td>1583.0</td>\n",
       "      <td>1583.0</td>\n",
       "      <td>M2</td>\n",
       "      <td>M1</td>\n",
       "      <td>M1</td>\n",
       "      <td>None</td>\n",
       "      <td>None</td>\n",
       "      <td>None</td>\n",
       "      <td>2979.0</td>\n",
       "      <td>185</td>\n",
       "      <td>272.0</td>\n",
       "      <td>None</td>\n",
       "      <td>NaN</td>\n",
       "      <td>NaN</td>\n",
       "      <td>NaN</td>\n",
       "      <td>None</td>\n",
       "      <td>M</td>\n",
       "      <td>Petrol</td>\n",
       "      <td>4526783</td>\n",
       "      <td></td>\n",
       "      <td>1595.0</td>\n",
       "      <td>BMW M GMBH</td>\n",
       "      <td>FR</td>\n",
       "      <td>BMW M GMBH</td>\n",
       "      <td>BMW GMBH</td>\n",
       "      <td>BMW</td>\n",
       "      <td>BMW GROUP</td>\n",
       "      <td>NaN</td>\n",
       "      <td>1</td>\n",
       "      <td>P</td>\n",
       "      <td>M3</td>\n",
       "      <td>e1*2007/46*0377*12</td>\n",
       "      <td></td>\n",
       "      <td>1H91</td>\n",
       "      <td>6A040000</td>\n",
       "      <td>v15</td>\n",
       "      <td>None</td>\n",
       "      <td>2693.0</td>\n",
       "      <td>2017</td>\n",
       "      <td>NaN</td>\n",
       "      <td>None</td>\n",
       "      <td>185</td>\n",
       "    </tr>\n",
       "    <tr>\n",
       "      <th>99998</th>\n",
       "      <td>1583.0</td>\n",
       "      <td>1583.0</td>\n",
       "      <td>M2</td>\n",
       "      <td>M1</td>\n",
       "      <td>M1</td>\n",
       "      <td>None</td>\n",
       "      <td>None</td>\n",
       "      <td>None</td>\n",
       "      <td>2979.0</td>\n",
       "      <td>185</td>\n",
       "      <td>272.0</td>\n",
       "      <td>None</td>\n",
       "      <td>NaN</td>\n",
       "      <td>NaN</td>\n",
       "      <td>NaN</td>\n",
       "      <td>None</td>\n",
       "      <td>M</td>\n",
       "      <td>Petrol</td>\n",
       "      <td>4526790</td>\n",
       "      <td></td>\n",
       "      <td>1595.0</td>\n",
       "      <td>BMW M GMBH</td>\n",
       "      <td>FR</td>\n",
       "      <td>BMW M GMBH</td>\n",
       "      <td>BMW GMBH</td>\n",
       "      <td>BMW</td>\n",
       "      <td>BMW GROUP</td>\n",
       "      <td>NaN</td>\n",
       "      <td>1</td>\n",
       "      <td>F</td>\n",
       "      <td>M3</td>\n",
       "      <td>e1*2007/46*0377*12</td>\n",
       "      <td></td>\n",
       "      <td>1H91</td>\n",
       "      <td>6A040000</td>\n",
       "      <td>v16</td>\n",
       "      <td>None</td>\n",
       "      <td>2693.0</td>\n",
       "      <td>2017</td>\n",
       "      <td>NaN</td>\n",
       "      <td>None</td>\n",
       "      <td>185</td>\n",
       "    </tr>\n",
       "    <tr>\n",
       "      <th>99999</th>\n",
       "      <td>1583.0</td>\n",
       "      <td>1583.0</td>\n",
       "      <td>M2</td>\n",
       "      <td>M1</td>\n",
       "      <td>M1</td>\n",
       "      <td>None</td>\n",
       "      <td>None</td>\n",
       "      <td>None</td>\n",
       "      <td>2979.0</td>\n",
       "      <td>185</td>\n",
       "      <td>272.0</td>\n",
       "      <td>None</td>\n",
       "      <td>NaN</td>\n",
       "      <td>NaN</td>\n",
       "      <td>NaN</td>\n",
       "      <td>None</td>\n",
       "      <td>M</td>\n",
       "      <td>Petrol</td>\n",
       "      <td>4526790</td>\n",
       "      <td></td>\n",
       "      <td>1595.0</td>\n",
       "      <td>BMW M GMBH</td>\n",
       "      <td>FR</td>\n",
       "      <td>BMW M GMBH</td>\n",
       "      <td>BMW GMBH</td>\n",
       "      <td>BMW</td>\n",
       "      <td>BMW GROUP</td>\n",
       "      <td>NaN</td>\n",
       "      <td>1</td>\n",
       "      <td>P</td>\n",
       "      <td>M3</td>\n",
       "      <td>e1*2007/46*0377*12</td>\n",
       "      <td></td>\n",
       "      <td>1H91</td>\n",
       "      <td>6A040000</td>\n",
       "      <td>v15</td>\n",
       "      <td>None</td>\n",
       "      <td>2693.0</td>\n",
       "      <td>2017</td>\n",
       "      <td>NaN</td>\n",
       "      <td>None</td>\n",
       "      <td>185</td>\n",
       "    </tr>\n",
       "  </tbody>\n",
       "</table>\n",
       "<p>100000 rows × 42 columns</p>\n",
       "</div>"
      ],
      "text/plain": [
       "       At1 (mm)  At2 (mm)                        Cn  ... Z (Wh/km)    Zr emissions\n",
       "0        1679.0    1632.0     458 SPECIALE A AD S-A  ...       NaN  None       559\n",
       "1        1679.0    1632.0     458 SPECIALE A AD S-A  ...       NaN  None       559\n",
       "2           NaN       NaN                   AUDI A8  ...       NaN  None       545\n",
       "3           NaN       NaN                   AUDI A8  ...       NaN  None       545\n",
       "4        1714.0    1617.0  BUGATTIGRANDSPORTVITESSE  ...       NaN  None       539\n",
       "...         ...       ...                       ...  ...       ...   ...       ...\n",
       "99995    1583.0    1583.0                        M2  ...       NaN  None       185\n",
       "99996    1583.0    1583.0                        M2  ...       NaN  None       185\n",
       "99997    1583.0    1583.0                        M2  ...       NaN  None       185\n",
       "99998    1583.0    1583.0                        M2  ...       NaN  None       185\n",
       "99999    1583.0    1583.0                        M2  ...       NaN  None       185\n",
       "\n",
       "[100000 rows x 42 columns]"
      ]
     },
     "execution_count": 278,
     "metadata": {},
     "output_type": "execute_result"
    }
   ],
   "source": [
    "input_path = \"/datalake/raw/co2_passenger_cars_emissions\"\n",
    "df_co2_emissions = spark.read.option(\"multiline\", \"true\").json(input_path)\n"
   ]
  },
  {
   "cell_type": "code",
   "execution_count": null,
   "metadata": {
    "application/vnd.databricks.v1+cell": {
     "cellMetadata": {
      "byteLimit": 2048000,
      "rowLimit": 10000
     },
     "inputWidgets": {},
     "nuid": "78b7f5b3-5c06-495d-b04a-694a4c43d30a",
     "showTitle": false,
     "title": ""
    }
   },
   "outputs": [],
   "source": [
    "# Renaming the columns\n",
    "for col_name in df_co2_emissions.columns:\n",
    "    new_col_name = col_name.replace(' ', '_').replace('(', '').replace(')', '')\n",
    "    df_co2_emissions = df_co2_emissions.withColumnRenamed(col_name, new_col_name)\n"
   ]
  },
  {
   "cell_type": "code",
   "execution_count": null,
   "metadata": {
    "application/vnd.databricks.v1+cell": {
     "cellMetadata": {
      "byteLimit": 2048000,
      "rowLimit": 10000
     },
     "inputWidgets": {},
     "nuid": "31ae590a-e1bd-43f6-ab6e-fd25b21d0617",
     "showTitle": false,
     "title": ""
    }
   },
   "outputs": [
    {
     "data": {
      "text/plain": [
       "['At1_mm', 'At2_mm', 'Cn', 'Cr', 'Ct']"
      ]
     },
     "execution_count": 297,
     "metadata": {},
     "output_type": "execute_result"
    }
   ],
   "source": [
    "df_co2_emissions.columns[:5]"
   ]
  },
  {
   "cell_type": "code",
   "execution_count": null,
   "metadata": {
    "application/vnd.databricks.v1+cell": {
     "cellMetadata": {
      "byteLimit": 2048000,
      "rowLimit": 10000
     },
     "inputWidgets": {},
     "nuid": "04277d70-5ef3-4976-a722-802b39a7a7de",
     "showTitle": false,
     "title": ""
    }
   },
   "outputs": [
    {
     "name": "stdout",
     "output_type": "stream",
     "text": [
      "Number of records of dataframe co2_emissions before dropping nulls: 100000\n",
      "Number of records of dataframe co2_emissions after dropping nulls: 100000\n"
     ]
    }
   ],
   "source": [
    "print(f'Number of records of dataframe co2_emissions before dropping nulls: {df_co2_emissions.count()}')\n",
    "\n",
    "df_co2_emissions = df_co2_emissions.dropna(how='all')\n",
    "\n",
    "print(f'Number of records of dataframe co2_emissions after dropping nulls: {df_co2_emissions.count()}')"
   ]
  },
  {
   "cell_type": "code",
   "execution_count": null,
   "metadata": {
    "application/vnd.databricks.v1+cell": {
     "cellMetadata": {
      "byteLimit": 2048000,
      "rowLimit": 10000
     },
     "inputWidgets": {},
     "nuid": "abacca97-f612-4dfd-8bcb-d0dc8e10307c",
     "showTitle": false,
     "title": ""
    }
   },
   "outputs": [
    {
     "data": {
      "text/html": [
       "<div>\n",
       "<style scoped>\n",
       "    .dataframe tbody tr th:only-of-type {\n",
       "        vertical-align: middle;\n",
       "    }\n",
       "\n",
       "    .dataframe tbody tr th {\n",
       "        vertical-align: top;\n",
       "    }\n",
       "\n",
       "    .dataframe thead th {\n",
       "        text-align: right;\n",
       "    }\n",
       "</style>\n",
       "<table border=\"1\" class=\"dataframe\">\n",
       "  <thead>\n",
       "    <tr style=\"text-align: right;\">\n",
       "      <th></th>\n",
       "      <th>At1_mm</th>\n",
       "      <th>At2_mm</th>\n",
       "      <th>Cn</th>\n",
       "      <th>Cr</th>\n",
       "      <th>Ct</th>\n",
       "      <th>De</th>\n",
       "      <th>Dr</th>\n",
       "      <th>E_g/km</th>\n",
       "      <th>Ec_cm3</th>\n",
       "      <th>Enedc_g/km</th>\n",
       "      <th>Ep_KW</th>\n",
       "      <th>Er_g/km</th>\n",
       "      <th>Ernedc_g/km</th>\n",
       "      <th>Erwltp_g/km</th>\n",
       "      <th>Ewltp_g/km</th>\n",
       "      <th>Fc</th>\n",
       "      <th>Fm</th>\n",
       "      <th>Ft</th>\n",
       "      <th>ID</th>\n",
       "      <th>IT</th>\n",
       "      <th>M_kg</th>\n",
       "      <th>MMS</th>\n",
       "      <th>MS</th>\n",
       "      <th>Man</th>\n",
       "      <th>Mh</th>\n",
       "      <th>Mk</th>\n",
       "      <th>Mp</th>\n",
       "      <th>Mt</th>\n",
       "      <th>R</th>\n",
       "      <th>Status</th>\n",
       "      <th>T</th>\n",
       "      <th>TAN</th>\n",
       "      <th>VFN</th>\n",
       "      <th>Va</th>\n",
       "      <th>Ve</th>\n",
       "      <th>Version_file</th>\n",
       "      <th>Vf</th>\n",
       "      <th>W_mm</th>\n",
       "      <th>Year</th>\n",
       "      <th>Z_Wh/km</th>\n",
       "      <th>Zr</th>\n",
       "      <th>emissions</th>\n",
       "    </tr>\n",
       "  </thead>\n",
       "  <tbody>\n",
       "    <tr>\n",
       "      <th>0</th>\n",
       "      <td>1570.0</td>\n",
       "      <td>1575.0</td>\n",
       "      <td>VANTAGE S V12</td>\n",
       "      <td></td>\n",
       "      <td>M1</td>\n",
       "      <td>None</td>\n",
       "      <td>None</td>\n",
       "      <td>None</td>\n",
       "      <td>5935.0</td>\n",
       "      <td>395</td>\n",
       "      <td>NaN</td>\n",
       "      <td>None</td>\n",
       "      <td>NaN</td>\n",
       "      <td>NaN</td>\n",
       "      <td>NaN</td>\n",
       "      <td>None</td>\n",
       "      <td>M</td>\n",
       "      <td>PETROL</td>\n",
       "      <td>404725</td>\n",
       "      <td></td>\n",
       "      <td>1740.0</td>\n",
       "      <td>ASTON MARTIN</td>\n",
       "      <td>GB</td>\n",
       "      <td>ASTON MARTIN LAGONDA LTD</td>\n",
       "      <td>ASTON MARTIN</td>\n",
       "      <td>ASTON MARTIN</td>\n",
       "      <td></td>\n",
       "      <td>NaN</td>\n",
       "      <td>28</td>\n",
       "      <td>F</td>\n",
       "      <td>VH2(SE)</td>\n",
       "      <td>E11*KS07/46*0207*09</td>\n",
       "      <td></td>\n",
       "      <td>SE17</td>\n",
       "      <td>R2RMDH</td>\n",
       "      <td>v16</td>\n",
       "      <td>None</td>\n",
       "      <td>2600.0</td>\n",
       "      <td>2017</td>\n",
       "      <td>NaN</td>\n",
       "      <td>None</td>\n",
       "      <td>395</td>\n",
       "    </tr>\n",
       "    <tr>\n",
       "      <th>1</th>\n",
       "      <td>1669.0</td>\n",
       "      <td>1665.0</td>\n",
       "      <td>CONTINENTAL</td>\n",
       "      <td></td>\n",
       "      <td>m1</td>\n",
       "      <td>None</td>\n",
       "      <td>None</td>\n",
       "      <td>None</td>\n",
       "      <td>5998.0</td>\n",
       "      <td>358</td>\n",
       "      <td>NaN</td>\n",
       "      <td>None</td>\n",
       "      <td>NaN</td>\n",
       "      <td>NaN</td>\n",
       "      <td>NaN</td>\n",
       "      <td>None</td>\n",
       "      <td>M</td>\n",
       "      <td>Petrol</td>\n",
       "      <td>115791</td>\n",
       "      <td></td>\n",
       "      <td>2355.0</td>\n",
       "      <td>BENTLEY MOTORS LTD</td>\n",
       "      <td>ES</td>\n",
       "      <td>BENTLEY MOTORS LTD</td>\n",
       "      <td>BENTLEY</td>\n",
       "      <td>BENTLEY</td>\n",
       "      <td></td>\n",
       "      <td>NaN</td>\n",
       "      <td>2</td>\n",
       "      <td>F</td>\n",
       "      <td>3W</td>\n",
       "      <td>E11*2001/116*0221*24</td>\n",
       "      <td></td>\n",
       "      <td>FR4X</td>\n",
       "      <td>1</td>\n",
       "      <td>v16</td>\n",
       "      <td>None</td>\n",
       "      <td>2746.0</td>\n",
       "      <td>2017</td>\n",
       "      <td>NaN</td>\n",
       "      <td>None</td>\n",
       "      <td>358</td>\n",
       "    </tr>\n",
       "    <tr>\n",
       "      <th>2</th>\n",
       "      <td>1669.0</td>\n",
       "      <td>1665.0</td>\n",
       "      <td>CONTINENTAL</td>\n",
       "      <td></td>\n",
       "      <td>M1</td>\n",
       "      <td>None</td>\n",
       "      <td>None</td>\n",
       "      <td>None</td>\n",
       "      <td>5998.0</td>\n",
       "      <td>338</td>\n",
       "      <td>472.0</td>\n",
       "      <td>None</td>\n",
       "      <td>NaN</td>\n",
       "      <td>NaN</td>\n",
       "      <td>NaN</td>\n",
       "      <td>None</td>\n",
       "      <td>M</td>\n",
       "      <td>PETROL</td>\n",
       "      <td>1812268</td>\n",
       "      <td></td>\n",
       "      <td>2395.0</td>\n",
       "      <td>BENTLEY MOTORS LTD</td>\n",
       "      <td>LU</td>\n",
       "      <td>BENTLEY MOTORS LTD</td>\n",
       "      <td>BENTLEY</td>\n",
       "      <td>BENTLEY</td>\n",
       "      <td></td>\n",
       "      <td>NaN</td>\n",
       "      <td>1</td>\n",
       "      <td>P</td>\n",
       "      <td>3W</td>\n",
       "      <td>E11*2001/116*0221*23</td>\n",
       "      <td></td>\n",
       "      <td>FP4X</td>\n",
       "      <td>1</td>\n",
       "      <td>v15</td>\n",
       "      <td>None</td>\n",
       "      <td>2746.0</td>\n",
       "      <td>2017</td>\n",
       "      <td>NaN</td>\n",
       "      <td>None</td>\n",
       "      <td>338</td>\n",
       "    </tr>\n",
       "    <tr>\n",
       "      <th>3</th>\n",
       "      <td>1586.0</td>\n",
       "      <td>1590.0</td>\n",
       "      <td>unknown</td>\n",
       "      <td></td>\n",
       "      <td>M1</td>\n",
       "      <td>None</td>\n",
       "      <td>None</td>\n",
       "      <td>None</td>\n",
       "      <td>4691.0</td>\n",
       "      <td>337</td>\n",
       "      <td>NaN</td>\n",
       "      <td>None</td>\n",
       "      <td>NaN</td>\n",
       "      <td>NaN</td>\n",
       "      <td>NaN</td>\n",
       "      <td>None</td>\n",
       "      <td>M</td>\n",
       "      <td>petrol</td>\n",
       "      <td>432693</td>\n",
       "      <td></td>\n",
       "      <td>2055.0</td>\n",
       "      <td>MASERATI</td>\n",
       "      <td>GB</td>\n",
       "      <td>MASERATI SPA</td>\n",
       "      <td>MASERATI</td>\n",
       "      <td>MASERATI</td>\n",
       "      <td></td>\n",
       "      <td>NaN</td>\n",
       "      <td>1</td>\n",
       "      <td>F</td>\n",
       "      <td>M145</td>\n",
       "      <td>e3*2001/116*0262*13</td>\n",
       "      <td></td>\n",
       "      <td>GD</td>\n",
       "      <td>A</td>\n",
       "      <td>v16</td>\n",
       "      <td>None</td>\n",
       "      <td>2942.0</td>\n",
       "      <td>2017</td>\n",
       "      <td>NaN</td>\n",
       "      <td>None</td>\n",
       "      <td>337</td>\n",
       "    </tr>\n",
       "    <tr>\n",
       "      <th>4</th>\n",
       "      <td>1644.0</td>\n",
       "      <td>1642.0</td>\n",
       "      <td>FLYING SPUR W12</td>\n",
       "      <td></td>\n",
       "      <td>M1</td>\n",
       "      <td>None</td>\n",
       "      <td>None</td>\n",
       "      <td>None</td>\n",
       "      <td>5998.0</td>\n",
       "      <td>335</td>\n",
       "      <td>460.0</td>\n",
       "      <td>None</td>\n",
       "      <td>NaN</td>\n",
       "      <td>NaN</td>\n",
       "      <td>NaN</td>\n",
       "      <td>None</td>\n",
       "      <td>M</td>\n",
       "      <td>Petrol</td>\n",
       "      <td>509287</td>\n",
       "      <td></td>\n",
       "      <td>2565.0</td>\n",
       "      <td>BENTLEY MOTORS LIMITED</td>\n",
       "      <td>SE</td>\n",
       "      <td>BENTLEY MOTORS LTD</td>\n",
       "      <td>BENTLEY</td>\n",
       "      <td>BENTLEY</td>\n",
       "      <td></td>\n",
       "      <td>NaN</td>\n",
       "      <td>1</td>\n",
       "      <td>F</td>\n",
       "      <td>3W</td>\n",
       "      <td>e11*2001/116*0221*23</td>\n",
       "      <td></td>\n",
       "      <td>EB4X</td>\n",
       "      <td>1</td>\n",
       "      <td>v16</td>\n",
       "      <td>None</td>\n",
       "      <td>3065.0</td>\n",
       "      <td>2017</td>\n",
       "      <td>NaN</td>\n",
       "      <td>None</td>\n",
       "      <td>335</td>\n",
       "    </tr>\n",
       "    <tr>\n",
       "      <th>...</th>\n",
       "      <td>...</td>\n",
       "      <td>...</td>\n",
       "      <td>...</td>\n",
       "      <td>...</td>\n",
       "      <td>...</td>\n",
       "      <td>...</td>\n",
       "      <td>...</td>\n",
       "      <td>...</td>\n",
       "      <td>...</td>\n",
       "      <td>...</td>\n",
       "      <td>...</td>\n",
       "      <td>...</td>\n",
       "      <td>...</td>\n",
       "      <td>...</td>\n",
       "      <td>...</td>\n",
       "      <td>...</td>\n",
       "      <td>...</td>\n",
       "      <td>...</td>\n",
       "      <td>...</td>\n",
       "      <td>...</td>\n",
       "      <td>...</td>\n",
       "      <td>...</td>\n",
       "      <td>...</td>\n",
       "      <td>...</td>\n",
       "      <td>...</td>\n",
       "      <td>...</td>\n",
       "      <td>...</td>\n",
       "      <td>...</td>\n",
       "      <td>...</td>\n",
       "      <td>...</td>\n",
       "      <td>...</td>\n",
       "      <td>...</td>\n",
       "      <td>...</td>\n",
       "      <td>...</td>\n",
       "      <td>...</td>\n",
       "      <td>...</td>\n",
       "      <td>...</td>\n",
       "      <td>...</td>\n",
       "      <td>...</td>\n",
       "      <td>...</td>\n",
       "      <td>...</td>\n",
       "      <td>...</td>\n",
       "    </tr>\n",
       "    <tr>\n",
       "      <th>99995</th>\n",
       "      <td>1690.0</td>\n",
       "      <td>1690.0</td>\n",
       "      <td>RANGE ROVER SPORT</td>\n",
       "      <td>M1</td>\n",
       "      <td>M1G</td>\n",
       "      <td>None</td>\n",
       "      <td>None</td>\n",
       "      <td>None</td>\n",
       "      <td>2993.0</td>\n",
       "      <td>185</td>\n",
       "      <td>225.0</td>\n",
       "      <td>None</td>\n",
       "      <td>NaN</td>\n",
       "      <td>NaN</td>\n",
       "      <td>NaN</td>\n",
       "      <td>None</td>\n",
       "      <td>M</td>\n",
       "      <td>Diesel</td>\n",
       "      <td>3079126</td>\n",
       "      <td></td>\n",
       "      <td>2202.0</td>\n",
       "      <td>JAGUAR LAND ROVER LIMITED</td>\n",
       "      <td>FR</td>\n",
       "      <td>JAGUAR LAND ROVER LIMITED</td>\n",
       "      <td>JAGUAR LAND ROVER LIMITED</td>\n",
       "      <td>LAND ROVER</td>\n",
       "      <td>TATA MOTORS JAGUAR LAND ROVER</td>\n",
       "      <td>NaN</td>\n",
       "      <td>1</td>\n",
       "      <td>P</td>\n",
       "      <td>LW</td>\n",
       "      <td>e11*2007/46*0909*12</td>\n",
       "      <td></td>\n",
       "      <td>S5CH2F</td>\n",
       "      <td>A5C4</td>\n",
       "      <td>v15</td>\n",
       "      <td>None</td>\n",
       "      <td>2923.0</td>\n",
       "      <td>2017</td>\n",
       "      <td>NaN</td>\n",
       "      <td>None</td>\n",
       "      <td>185</td>\n",
       "    </tr>\n",
       "    <tr>\n",
       "      <th>99996</th>\n",
       "      <td>1690.0</td>\n",
       "      <td>1685.0</td>\n",
       "      <td>Range Rover Sport 3.0 SDV6</td>\n",
       "      <td>M1G</td>\n",
       "      <td>M1G</td>\n",
       "      <td>None</td>\n",
       "      <td>None</td>\n",
       "      <td>None</td>\n",
       "      <td>2993.0</td>\n",
       "      <td>185</td>\n",
       "      <td>225.0</td>\n",
       "      <td>None</td>\n",
       "      <td>NaN</td>\n",
       "      <td>NaN</td>\n",
       "      <td>NaN</td>\n",
       "      <td>None</td>\n",
       "      <td>M</td>\n",
       "      <td>Diesel</td>\n",
       "      <td>4105305</td>\n",
       "      <td></td>\n",
       "      <td>2203.0</td>\n",
       "      <td>JAGUAR LAND ROVER LIMITED, V.</td>\n",
       "      <td>CZ</td>\n",
       "      <td>JAGUAR LAND ROVER LIMITED</td>\n",
       "      <td>JAGUAR LAND ROVER LIMITED</td>\n",
       "      <td>LAND ROVER</td>\n",
       "      <td>TATA MOTORS JAGUAR LAND ROVER</td>\n",
       "      <td>NaN</td>\n",
       "      <td>1</td>\n",
       "      <td>F</td>\n",
       "      <td>LW</td>\n",
       "      <td>e11*2007/46*0909*10</td>\n",
       "      <td></td>\n",
       "      <td>S5CH2F</td>\n",
       "      <td>A5C2</td>\n",
       "      <td>v16</td>\n",
       "      <td>None</td>\n",
       "      <td>2923.0</td>\n",
       "      <td>2017</td>\n",
       "      <td>NaN</td>\n",
       "      <td>None</td>\n",
       "      <td>185</td>\n",
       "    </tr>\n",
       "    <tr>\n",
       "      <th>99997</th>\n",
       "      <td>1583.0</td>\n",
       "      <td>1583.0</td>\n",
       "      <td>M2</td>\n",
       "      <td>M1</td>\n",
       "      <td>M1</td>\n",
       "      <td>None</td>\n",
       "      <td>None</td>\n",
       "      <td>None</td>\n",
       "      <td>2979.0</td>\n",
       "      <td>185</td>\n",
       "      <td>272.0</td>\n",
       "      <td>None</td>\n",
       "      <td>NaN</td>\n",
       "      <td>NaN</td>\n",
       "      <td>NaN</td>\n",
       "      <td>None</td>\n",
       "      <td>M</td>\n",
       "      <td>Petrol</td>\n",
       "      <td>4525873</td>\n",
       "      <td></td>\n",
       "      <td>1595.0</td>\n",
       "      <td>BMW M GMBH</td>\n",
       "      <td>FR</td>\n",
       "      <td>BMW M GMBH</td>\n",
       "      <td>BMW GMBH</td>\n",
       "      <td>BMW</td>\n",
       "      <td>BMW GROUP</td>\n",
       "      <td>NaN</td>\n",
       "      <td>1</td>\n",
       "      <td>F</td>\n",
       "      <td>M3</td>\n",
       "      <td>e1*2007/46*0377*12</td>\n",
       "      <td></td>\n",
       "      <td>1H91</td>\n",
       "      <td>6A0400V0</td>\n",
       "      <td>v16</td>\n",
       "      <td>None</td>\n",
       "      <td>2693.0</td>\n",
       "      <td>2017</td>\n",
       "      <td>NaN</td>\n",
       "      <td>None</td>\n",
       "      <td>185</td>\n",
       "    </tr>\n",
       "    <tr>\n",
       "      <th>99998</th>\n",
       "      <td>1583.0</td>\n",
       "      <td>1583.0</td>\n",
       "      <td>M2</td>\n",
       "      <td>M1</td>\n",
       "      <td>M1</td>\n",
       "      <td>None</td>\n",
       "      <td>None</td>\n",
       "      <td>None</td>\n",
       "      <td>2979.0</td>\n",
       "      <td>185</td>\n",
       "      <td>272.0</td>\n",
       "      <td>None</td>\n",
       "      <td>NaN</td>\n",
       "      <td>NaN</td>\n",
       "      <td>NaN</td>\n",
       "      <td>None</td>\n",
       "      <td>M</td>\n",
       "      <td>Petrol</td>\n",
       "      <td>4526197</td>\n",
       "      <td></td>\n",
       "      <td>1595.0</td>\n",
       "      <td>BMW M GMBH</td>\n",
       "      <td>FR</td>\n",
       "      <td>BMW M GMBH</td>\n",
       "      <td>BMW GMBH</td>\n",
       "      <td>BMW</td>\n",
       "      <td>BMW GROUP</td>\n",
       "      <td>NaN</td>\n",
       "      <td>1</td>\n",
       "      <td>F</td>\n",
       "      <td>M3</td>\n",
       "      <td>e1*2007/46*0377*12</td>\n",
       "      <td></td>\n",
       "      <td>1H91</td>\n",
       "      <td>6A040000</td>\n",
       "      <td>v16</td>\n",
       "      <td>None</td>\n",
       "      <td>2693.0</td>\n",
       "      <td>2017</td>\n",
       "      <td>NaN</td>\n",
       "      <td>None</td>\n",
       "      <td>185</td>\n",
       "    </tr>\n",
       "    <tr>\n",
       "      <th>99999</th>\n",
       "      <td>1583.0</td>\n",
       "      <td>1583.0</td>\n",
       "      <td>M2</td>\n",
       "      <td>M1</td>\n",
       "      <td>M1</td>\n",
       "      <td>None</td>\n",
       "      <td>None</td>\n",
       "      <td>None</td>\n",
       "      <td>2979.0</td>\n",
       "      <td>185</td>\n",
       "      <td>272.0</td>\n",
       "      <td>None</td>\n",
       "      <td>NaN</td>\n",
       "      <td>NaN</td>\n",
       "      <td>NaN</td>\n",
       "      <td>None</td>\n",
       "      <td>M</td>\n",
       "      <td>Petrol</td>\n",
       "      <td>4526527</td>\n",
       "      <td></td>\n",
       "      <td>1595.0</td>\n",
       "      <td>BMW M GMBH</td>\n",
       "      <td>FR</td>\n",
       "      <td>BMW M GMBH</td>\n",
       "      <td>BMW GMBH</td>\n",
       "      <td>BMW</td>\n",
       "      <td>BMW GROUP</td>\n",
       "      <td>NaN</td>\n",
       "      <td>1</td>\n",
       "      <td>F</td>\n",
       "      <td>M3</td>\n",
       "      <td>e1*2007/46*0377*12</td>\n",
       "      <td></td>\n",
       "      <td>1H91</td>\n",
       "      <td>6A040000</td>\n",
       "      <td>v16</td>\n",
       "      <td>None</td>\n",
       "      <td>2693.0</td>\n",
       "      <td>2017</td>\n",
       "      <td>NaN</td>\n",
       "      <td>None</td>\n",
       "      <td>185</td>\n",
       "    </tr>\n",
       "  </tbody>\n",
       "</table>\n",
       "<p>100000 rows × 42 columns</p>\n",
       "</div>"
      ],
      "text/plain": [
       "       At1_mm  At2_mm                          Cn  ... Z_Wh/km    Zr emissions\n",
       "0      1570.0  1575.0               VANTAGE S V12  ...     NaN  None       395\n",
       "1      1669.0  1665.0                 CONTINENTAL  ...     NaN  None       358\n",
       "2      1669.0  1665.0                 CONTINENTAL  ...     NaN  None       338\n",
       "3      1586.0  1590.0                     unknown  ...     NaN  None       337\n",
       "4      1644.0  1642.0             FLYING SPUR W12  ...     NaN  None       335\n",
       "...       ...     ...                         ...  ...     ...   ...       ...\n",
       "99995  1690.0  1690.0           RANGE ROVER SPORT  ...     NaN  None       185\n",
       "99996  1690.0  1685.0  Range Rover Sport 3.0 SDV6  ...     NaN  None       185\n",
       "99997  1583.0  1583.0                          M2  ...     NaN  None       185\n",
       "99998  1583.0  1583.0                          M2  ...     NaN  None       185\n",
       "99999  1583.0  1583.0                          M2  ...     NaN  None       185\n",
       "\n",
       "[100000 rows x 42 columns]"
      ]
     },
     "execution_count": 301,
     "metadata": {},
     "output_type": "execute_result"
    }
   ],
   "source": [
    "\n",
    "df_co2_emissions = df_co2_emissions.dropDuplicates()\n",
    "\n",
    "df_co2_emissions = df_co2_emissions.where(length(df_co2_emissions[\"MS\"]) == 2)\n",
    "\n",
    "df_co2_emissions = df_co2_emissions.filter(col(\"MS\").rlike(\"^[A-Z]{2}$\"))\n",
    "\n",
    "# Show the filtered DataFrame\n",
    "df_co2_emissions.toPandas()"
   ]
  }
 ],
 "metadata": {
  "application/vnd.databricks.v1+notebook": {
   "dashboards": [],
   "language": "python",
   "notebookMetadata": {
    "mostRecentlyExecutedCommandWithImplicitDF": {
     "commandId": -1,
     "dataframes": [
      "_sqldf"
     ]
    },
    "pythonIndentUnit": 4
   },
   "notebookName": "3_milestone_data_ingestion",
   "widgets": {}
  },
  "kernelspec": {
   "display_name": "Python 3 (ipykernel)",
   "language": "python",
   "name": "python3"
  },
  "language_info": {
   "codemirror_mode": {
    "name": "ipython",
    "version": 3
   },
   "file_extension": ".py",
   "mimetype": "text/x-python",
   "name": "python",
   "nbconvert_exporter": "python",
   "pygments_lexer": "ipython3",
   "version": "3.9.18"
  }
 },
 "nbformat": 4,
 "nbformat_minor": 4
}
