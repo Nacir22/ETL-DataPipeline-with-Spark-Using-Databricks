{
 "cells": [
  {
   "cell_type": "code",
   "execution_count": null,
   "id": "a4e690cf-6ccb-4d60-ad9f-9a2d9aa7848c",
   "metadata": {},
   "outputs": [],
   "source": []
  },
  {
   "cell_type": "code",
   "execution_count": null,
   "id": "dfe28cd6-655e-4d37-883f-ecbe58545051",
   "metadata": {},
   "outputs": [],
   "source": [
    "from delta.tables import DeltaTable\n",
    "\n",
    "# Specify the path to your Delta table\n",
    "delta_table_path = \"/path/to/delta/table/eea_curated.co2_emissions\"\n",
    "\n",
    "# Or, if the table is registered in the metastore, you can use the table name directly\n",
    "# delta_table_path = \"eea_curated.co2_emissions\"\n",
    "\n",
    "# Load the Delta table\n",
    "deltaTable = DeltaTable.forPath(spark, delta_table_path)\n",
    "\n",
    "# Retrieve the full history of the table\n",
    "historyDF = deltaTable.history()\n",
    "\n",
    "# Show the history\n",
    "historyDF.show(truncate=False)"
   ]
  },
  {
   "cell_type": "code",
   "execution_count": null,
   "id": "7d4e99e1-8d5e-42a3-86f4-5ae66546ca1e",
   "metadata": {},
   "outputs": [],
   "source": []
  },
  {
   "cell_type": "code",
   "execution_count": null,
   "id": "0391273b-a884-4570-ae32-ee733985c2e0",
   "metadata": {},
   "outputs": [],
   "source": [
    "# If the table is registered in the metastore\n",
    "spark.sql(f\"\"\"\n",
    "    UPDATE {delta_table_name}\n",
    "    SET ec_cm3 = ec_cm3 + 10\n",
    "    WHERE Mh = 'FERRARI'\n",
    "\"\"\")"
   ]
  },
  {
   "cell_type": "code",
   "execution_count": null,
   "id": "8a89d9a7-301e-4257-9e71-fe06c0adf13e",
   "metadata": {},
   "outputs": [],
   "source": [
    " Retrieve Originally Ingested Data for Ferrari"
   ]
  },
  {
   "cell_type": "code",
   "execution_count": null,
   "id": "0d4d616c-bab6-421b-8a22-095677b2c20e",
   "metadata": {},
   "outputs": [],
   "source": [
    "# Load the Delta table history\n",
    "historyDF = DeltaTable.forPath(spark, delta_table_path).history()\n",
    "\n",
    "# Display the most recent operations\n",
    "historyDF.select(\"version\", \"operation\", \"timestamp\").show()"
   ]
  },
  {
   "cell_type": "code",
   "execution_count": null,
   "id": "b8f9a0b1-0b92-4137-9893-8512eec2bdbb",
   "metadata": {},
   "outputs": [],
   "source": [
    "# Replace N with the actual version number before the update\n",
    "previous_version_df = spark.read.format(\"delta\").option(\"versionAsOf\", N).load(delta_table_path)\n",
    "\n",
    "# Filter for 'FERRARI' and display the results\n",
    "previous_version_df.filter(\"Mh = 'FERRARI'\").show()"
   ]
  },
  {
   "cell_type": "code",
   "execution_count": null,
   "id": "52f28d4e-9f66-47a0-bc63-13563d8b98c3",
   "metadata": {},
   "outputs": [],
   "source": []
  },
  {
   "cell_type": "code",
   "execution_count": null,
   "id": "90613650-30f0-436d-845a-d87dbac5388a",
   "metadata": {},
   "outputs": [],
   "source": [
    "# Read the data from the target version\n",
    "df_to_restore = spark.read.format(\"delta\").option(\"versionAsOf\", N).load(\"dbfs:/path/to/delta/table/eea_curated.co2_emissions\")\n",
    "\n",
    "# Overwrite the current table with the data from the target version\n",
    "df_to_restore.write.format(\"delta\").mode(\"overwrite\").save(\"dbfs:/path/to/delta/table/eea_curated.co2_emissions\")\n"
   ]
  },
  {
   "cell_type": "code",
   "execution_count": null,
   "id": "04e88eb9-60d3-4749-9423-b8d14f0a98c8",
   "metadata": {},
   "outputs": [],
   "source": []
  },
  {
   "cell_type": "code",
   "execution_count": null,
   "id": "5aabcea4-c6c4-4712-8c88-e9842e5f8a00",
   "metadata": {},
   "outputs": [],
   "source": [
    "# Load the table and display some rows to verify\n",
    "restored_df = spark.read.format(\"delta\").load(\"dbfs:/path/to/delta/table/eea_curated.co2_emissions\")\n",
    "restored_df.show()"
   ]
  },
  {
   "cell_type": "code",
   "execution_count": null,
   "id": "adcc5725-38cc-493a-9526-2b904a267d42",
   "metadata": {},
   "outputs": [],
   "source": []
  }
 ],
 "metadata": {
  "kernelspec": {
   "display_name": "Python 3 (ipykernel)",
   "language": "python",
   "name": "python3"
  },
  "language_info": {
   "codemirror_mode": {
    "name": "ipython",
    "version": 3
   },
   "file_extension": ".py",
   "mimetype": "text/x-python",
   "name": "python",
   "nbconvert_exporter": "python",
   "pygments_lexer": "ipython3",
   "version": "3.9.18"
  }
 },
 "nbformat": 4,
 "nbformat_minor": 5
}
