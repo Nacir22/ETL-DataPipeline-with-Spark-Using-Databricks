{
 "cells": [
  {
   "cell_type": "code",
   "execution_count": null,
   "id": "01078575-98a7-43d6-ae5d-f39ff1df0ff0",
   "metadata": {},
   "outputs": [],
   "source": []
  },
  {
   "cell_type": "code",
   "execution_count": null,
   "id": "47cfdfe3-68fd-4b38-aec1-50f6bbdd7405",
   "metadata": {},
   "outputs": [],
   "source": [
    "%sh\n",
    "apt-get install jq\n",
    "# We switch to the root directory of our driver node\n",
    "cd /\n",
    "# We create a directory called eea_input_data and move into it\n",
    "mkdir eea_input_data\n",
    "cd eea_input_data/\n",
    "# We create a set of variables for the data URL\n",
    "BASE_URL=\"https://discodata.eea.europa.eu\"\n",
    "TABLE=\"CO2Emission.latest.co2cars\"\n",
    "ORDER=\"ORDER%20BY%20%27Enedc%20(g%2Fkm)%27%20DESC\"\n",
    "# We go through the three years via a for loop\n",
    "CONDITION=\"year%20%3D%202020\"\n",
    "COLUMNS=\"*%2C%20cast(%22Enedc%20(g%2Fkm)%22%20as%20float)%20*%201.1%20as%20%22Enedc%20(g%2Fkm)%20V2%22\"\n",
    "SQL_QUERY=\"SELECT%20$COLUMNS%20FROM%20$TABLE%20WHERE%20$CONDITION%20$ORDER\"\n",
    "FULL_URL=\"$BASE_URL/sql?query=$SQL_QUERY&p=1&nrOfHits=100000\"\n",
    "curl $FULL_URL | jq '.results' > co2_emissions_passenger_cars_2020.json"
   ]
  },
  {
   "cell_type": "code",
   "execution_count": null,
   "id": "a6b7efac-9100-4845-b82f-f1679d5cac75",
   "metadata": {},
   "outputs": [],
   "source": []
  },
  {
   "cell_type": "code",
   "execution_count": null,
   "id": "aea54a47-01d5-444a-b0af-a9ac9a83f508",
   "metadata": {},
   "outputs": [],
   "source": [
    "display(dbutils.fs.ls(\"/datalake\"))"
   ]
  },
  {
   "cell_type": "markdown",
   "id": "120c9a2c-5a79-4bd5-a7b8-f731b5662caf",
   "metadata": {},
   "source": [
    "3. Copying a File from Another File System"
   ]
  },
  {
   "cell_type": "code",
   "execution_count": null,
   "id": "b749ff90-c2d0-4fae-9a51-fa99bf991723",
   "metadata": {},
   "outputs": [],
   "source": [
    "# Define the source path (e.g., S3 bucket path where your JSON file currently resides)\n",
    "source_path = \"/mnt/your_mount_name/path/to/your/source_file.json\"\n",
    "\n",
    "# Define the target path on DBFS\n",
    "target_path = \"dbfs:/datalake/raw/co2_passenger_cars_emissions/year=2020/your_file.json\"\n",
    "\n",
    "# Use dbutils.fs.cp to copy the file\n",
    "dbutils.fs.cp(source_path, target_path)\n",
    "\n",
    "print(f\"File copied successfully to: {target_path}\")"
   ]
  },
  {
   "cell_type": "code",
   "execution_count": 1,
   "id": "64e6e13f-bb81-4552-b642-754e169ba9b8",
   "metadata": {},
   "outputs": [
    {
     "name": "stderr",
     "output_type": "stream",
     "text": [
      "UsageError: Line magic function `%md` not found.\n"
     ]
    }
   ],
   "source": [
    "%md\n",
    "## 4. data quality operations (Project 1, Milestone 3)"
   ]
  },
  {
   "cell_type": "code",
   "execution_count": null,
   "id": "904f8628-ecdc-4bd2-b459-3c9cb99789fe",
   "metadata": {},
   "outputs": [],
   "source": [
    " ## 6. Take a look at the data"
   ]
  },
  {
   "cell_type": "code",
   "execution_count": null,
   "id": "ab326b7a-1b65-480b-a213-a7a275a94949",
   "metadata": {},
   "outputs": [],
   "source": [
    "Append the Data to the Existing Delta Table"
   ]
  },
  {
   "cell_type": "code",
   "execution_count": null,
   "id": "733a03cf-b0a2-4329-8ed3-29e45f529d3c",
   "metadata": {},
   "outputs": [],
   "source": [
    "# Define the path to the Delta table or use the table name if registered in the metastore\n",
    "delta_table_path = \"dbfs:/datalake/curated/eea_curated/co2_emissions\"\n",
    "\n",
    "# Append the data to the Delta table\n",
    "new_data_df.write.format(\"delta\").mode(\"append\").save(delta_table_path)"
   ]
  },
  {
   "cell_type": "code",
   "execution_count": null,
   "id": "1282dccf-3a9a-4b7f-a61e-472c04c20890",
   "metadata": {},
   "outputs": [],
   "source": [
    "# Delta Lake enforces strict schema validation on write operations to ensure data integrity.\n",
    "# If a DataFrame being written to a Delta table contains columns not present in the table's schema,\n",
    "# or if there's a data type mismatch, the operation will fail with a schema mismatch exception.\n",
    "# This behavior protects against accidental schema changes that could lead to data quality issues.\n",
    "# In cases where schema evolution is desired, Delta Lake provides mechanisms to handle additions\n",
    "# of new columns or changes in data types, but such changes need to be explicitly allowed.\n"
   ]
  },
  {
   "cell_type": "code",
   "execution_count": null,
   "id": "cc8beef3-31a2-481d-ab96-2c75c642862b",
   "metadata": {},
   "outputs": [],
   "source": [
    "Drop column"
   ]
  },
  {
   "cell_type": "code",
   "execution_count": null,
   "id": "f90da747-49d2-4514-9cf1-14cb5a5d4c76",
   "metadata": {},
   "outputs": [],
   "source": []
  },
  {
   "cell_type": "code",
   "execution_count": null,
   "id": "6d18deab-c8bb-4b78-a0e8-a788f4381a79",
   "metadata": {},
   "outputs": [],
   "source": [
    " Rename Columns in the DataFrame"
   ]
  },
  {
   "cell_type": "code",
   "execution_count": null,
   "id": "8c8c9644-e41f-4546-a58f-3fd6fea5c41e",
   "metadata": {},
   "outputs": [],
   "source": [
    "# Assuming 'df' is your DataFrame\n",
    "updated_df = (df.withColumnRenamed(\"Enedc_g/km\", \"Enedc_g/km_deprecated\")\n",
    "                .withColumnRenamed(\"Enedc_g/km_V2\", \"Enedc_g/km\"))"
   ]
  },
  {
   "cell_type": "code",
   "execution_count": null,
   "id": "e524cfe1-901d-41cf-8297-c4f539d8e40a",
   "metadata": {},
   "outputs": [],
   "source": [
    "# Delta Lake provides robust schema validation to prevent accidental schema changes that could lead to data inconsistencies.\n",
    "# In this case, by renaming 'Enedc_g/km' to 'Enedc_g/km_deprecated' and 'Enedc_g/km_V2' to 'Enedc_g/km', we align the DataFrame's\n",
    "# schema with our intention to update the emissions data. Using 'option(\"mergeSchema\", \"true\")' during the write operation,\n",
    "# we allow Delta Lake to evolve the schema of the existing table to incorporate these changes, ensuring that the correct\n",
    "# emissions data ('Enedc_g/km') is used for the year 2020. This showcases Delta Lake's capability to handle schema evolution\n",
    "# in a controlled manner, ensuring data integrity while accommodating necessary changes to the data structure.\n"
   ]
  },
  {
   "cell_type": "code",
   "execution_count": null,
   "id": "6d196b14-f16b-4c98-9f87-46f0364adf64",
   "metadata": {},
   "outputs": [],
   "source": []
  },
  {
   "cell_type": "code",
   "execution_count": null,
   "id": "df0c7b46-5579-4b98-a1ec-7fbd3f8ec001",
   "metadata": {},
   "outputs": [],
   "source": [
    "from pyspark.sql.functions import col\n",
    "\n",
    "# Cast the 'Enedc_g/km' column to Integer type\n",
    "updated_df = updated_df.withColumn(\"Enedc_g/km\", col(\"Enedc_g/km\").cast(\"int\"))"
   ]
  },
  {
   "cell_type": "code",
   "execution_count": null,
   "id": "58b7669f-4448-48cb-a69f-56e4692f3996",
   "metadata": {},
   "outputs": [],
   "source": [
    "delta_table_path = \"/path/to/delta/table/eea_curated.co2_emissions\"\n",
    "\n",
    "# Append the data with schema evolution enabled\n",
    "(updated_df.write.format(\"delta\")\n",
    "        .mode(\"append\")\n",
    "        .option(\"mergeSchema\", \"true\")\n",
    "        .save(delta_table_path))\n",
    "\n",
    "# Or, if using a Delta table name:\n",
    "# (updated_df.write.format(\"delta\")\n",
    "#         .mode(\"append\")\n",
    "#         .option(\"mergeSchema\", \"true\")\n",
    "#         .saveAsTable(\"eea_curated.co2_emissions\"))"
   ]
  }
 ],
 "metadata": {
  "kernelspec": {
   "display_name": "Python 3 (ipykernel)",
   "language": "python",
   "name": "python3"
  },
  "language_info": {
   "codemirror_mode": {
    "name": "ipython",
    "version": 3
   },
   "file_extension": ".py",
   "mimetype": "text/x-python",
   "name": "python",
   "nbconvert_exporter": "python",
   "pygments_lexer": "ipython3",
   "version": "3.9.18"
  }
 },
 "nbformat": 4,
 "nbformat_minor": 5
}
