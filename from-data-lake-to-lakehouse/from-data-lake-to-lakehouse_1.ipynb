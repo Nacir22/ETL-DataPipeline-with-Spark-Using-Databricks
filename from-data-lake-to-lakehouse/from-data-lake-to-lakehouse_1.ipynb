{
 "cells": [
  {
   "cell_type": "code",
   "execution_count": null,
   "id": "8f4311fc-66f5-41cf-a145-e503ec7f1b66",
   "metadata": {},
   "outputs": [],
   "source": [
    "4. Writing Data to Delta Format with Partitioning"
   ]
  },
  {
   "cell_type": "code",
   "execution_count": null,
   "id": "78c0308e-477c-423c-8d58-9ad779e1be51",
   "metadata": {},
   "outputs": [],
   "source": [
    "spark.sql(\"SHOW DATABASES\").show()"
   ]
  },
  {
   "cell_type": "code",
   "execution_count": null,
   "id": "f4b33808-6fc9-445a-9870-5536188bb32c",
   "metadata": {},
   "outputs": [],
   "source": [
    "USE eea_curated;"
   ]
  },
  {
   "cell_type": "code",
   "execution_count": null,
   "id": "50f7fc21-bc95-4723-9f02-c1bd5e738eff",
   "metadata": {},
   "outputs": [],
   "source": [
    "Convert the Table to Delta Format"
   ]
  },
  {
   "cell_type": "code",
   "execution_count": null,
   "id": "3b89375f-2459-4e9f-8994-aae192fdb1cf",
   "metadata": {},
   "outputs": [],
   "source": [
    "The CO2 emissions table on the curated layer"
   ]
  },
  {
   "cell_type": "code",
   "execution_count": null,
   "id": "b879914e-24ae-4e30-a56a-33294527a806",
   "metadata": {},
   "outputs": [],
   "source": [
    "\n",
    "# Specify the S3 bucket and path\n",
    "s3_bucket = \"databricks-workspace-stack-10fab-bucket\"\n",
    "s3_path = \"unity-catalog/1803637943354536\"\n",
    "\n",
    "df_path = f\"s3a://{s3_bucket}/{s3_path}/eea_curated/co2_emissions/\"\n"
   ]
  },
  {
   "cell_type": "code",
   "execution_count": null,
   "id": "f0a2217f-874b-4d0c-85b8-6648aff86ab3",
   "metadata": {},
   "outputs": [],
   "source": [
    "%sql\n",
    "df_path = f\"s3a://{s3_bucket}/{s3_path}/eea_curated/co2_emissions/\"\n",
    "CONVERT TO DELTA parquet.`s3://your-bucket-name/eea_curated/co2_emissions/` PARTITIONED BY (year)"
   ]
  },
  {
   "cell_type": "code",
   "execution_count": null,
   "id": "acb784fe-6e91-49a7-bc38-e6de47879007",
   "metadata": {},
   "outputs": [],
   "source": [
    "The highest emissions table on the serving layer"
   ]
  },
  {
   "cell_type": "code",
   "execution_count": null,
   "id": "16cb4b2a-67d2-4b05-a079-9eba56645aad",
   "metadata": {},
   "outputs": [],
   "source": [
    "%sql\n",
    "df_path = f\"s3a://{s3_bucket}/{s3_path}/eea_serving/highest_emissions/\"\n",
    "CONVERT TO DELTA parquet.`s3://your-bucket-name/eea_serving/highest_emissions/` PARTITIONED BY (year, MS)\n"
   ]
  },
  {
   "cell_type": "code",
   "execution_count": null,
   "id": "6bb5bebd-6efe-4f0a-a662-24eb0fcf6260",
   "metadata": {},
   "outputs": [],
   "source": [
    "The emissions change YoY table on the serving layer"
   ]
  },
  {
   "cell_type": "code",
   "execution_count": null,
   "id": "00f9e365-5abc-4014-be15-200c31bd2430",
   "metadata": {},
   "outputs": [],
   "source": [
    "%sql\n",
    "df_path = f\"s3a://{s3_bucket}/{s3_path}/eea_serving/emissions_diff_yoy/\"\n",
    "CONVERT TO DELTA parquet.`s3://your-bucket-name/eea_serving/emissions_diff_yoy/` PARTITIONED BY (year)"
   ]
  },
  {
   "cell_type": "code",
   "execution_count": null,
   "id": "4bba344a-11c0-4e86-b8b6-b6ad276899c4",
   "metadata": {},
   "outputs": [],
   "source": [
    "5. operations were executed"
   ]
  },
  {
   "cell_type": "markdown",
   "id": "2cb74c0e-4cb0-4a18-9e77-84a0e55b45f7",
   "metadata": {},
   "source": [
    " Here's an overview of the key operations and processes involved:\n",
    "1. Reading and Analyzing Source Data\n",
    "\n",
    "2. Data Conversion\n",
    "\n",
    "3. Transaction Log Update\n",
    "\n",
    "4. Data Skipping and Indexing (if Z-Ordering used)\n",
    "\n",
    "5. Checkpointing\n",
    "\n",
    "6. Optimizations for Read Performance\n"
   ]
  },
  {
   "cell_type": "code",
   "execution_count": null,
   "id": "be55ade9-8d1c-4f3d-8fbd-41e8f6a7be33",
   "metadata": {},
   "outputs": [],
   "source": [
    "6.1 Optimisarion of the newly created Delta tables"
   ]
  },
  {
   "cell_type": "code",
   "execution_count": null,
   "id": "07dba050-f5ba-492c-8e31-b0d59fd6e5f7",
   "metadata": {},
   "outputs": [],
   "source": [
    "%sql\n",
    "OPTIMIZE eea_curated.co2_emissions_delta ZORDER BY (MS)"
   ]
  },
  {
   "cell_type": "code",
   "execution_count": null,
   "id": "48fda515-46c9-4a28-8a91-c5e1dd7272ac",
   "metadata": {},
   "outputs": [],
   "source": [
    "%sql\n",
    "OPTIMIZE eea_serving.highest_emissions"
   ]
  },
  {
   "cell_type": "code",
   "execution_count": null,
   "id": "2c0858f9-6439-4030-b077-3a9b1d63ade3",
   "metadata": {},
   "outputs": [],
   "source": [
    "%sql\n",
    "OPTIMIZE eea_serving/emissions_diff_yoya ZORDER BY (MS)"
   ]
  },
  {
   "cell_type": "code",
   "execution_count": null,
   "id": "5559e6e4-5d7e-476c-9f7b-b5777b39728e",
   "metadata": {},
   "outputs": [],
   "source": [
    "# Define the path where the Delta table will be stored\n",
    "delta_table_path = \"/path/to/delta/highest_emissions\"\n",
    "\n",
    "# Write the DataFrame to Delta format, partitioned by 'year' and 'MS'\n",
    "(df_highest_emissions\n",
    "    .write\n",
    "    .format(\"delta\")\n",
    "    .partitionBy(\"year\", \"MS\")\n",
    "    .mode(\"overwrite\")\n",
    "    .save(delta_table_path))"
   ]
  },
  {
   "cell_type": "code",
   "execution_count": null,
   "id": "4dff1201-c965-499e-978b-1fb3b7d201b5",
   "metadata": {},
   "outputs": [],
   "source": [
    "CONVERT TO DELTA parquet.`/path/to/non-delta/highest_emissions`\n",
    "PARTITIONED BY (year INT, MS STRING)"
   ]
  },
  {
   "cell_type": "code",
   "execution_count": null,
   "id": "4b49c1b2-5d0c-4453-9e9d-57ca0b309808",
   "metadata": {},
   "outputs": [],
   "source": []
  },
  {
   "cell_type": "code",
   "execution_count": null,
   "id": "71f6419d-f988-46ea-b928-256f64caa211",
   "metadata": {},
   "outputs": [],
   "source": [
    "from delta.tables import DeltaTable\n",
    "\n",
    "# Assuming you have the DeltaTable object\n",
    "delta_table = DeltaTable.forPath(spark, \"/path/to/delta/table\")\n",
    "\n",
    "# Optimize the table and apply Z-Ordering on the 'MS' column\n",
    "delta_table.optimize().zorderBy(\"MS\").execute()"
   ]
  },
  {
   "cell_type": "code",
   "execution_count": null,
   "id": "6a63efb3-ca6c-4a64-bdbf-2d015946706e",
   "metadata": {},
   "outputs": [],
   "source": []
  },
  {
   "cell_type": "code",
   "execution_count": null,
   "id": "2cf9bf20-4183-4a1c-9cd4-d43f791a7a5b",
   "metadata": {},
   "outputs": [],
   "source": [
    "# Define the path for the Delta table\n",
    "delta_table_path = \"dbfs:/path/to/datalake/delta_table\"\n",
    "\n",
    "# Write the DataFrame to Delta format\n",
    "df.write.format(\"delta\").mode(\"overwrite\").save(delta_table_path)"
   ]
  },
  {
   "cell_type": "code",
   "execution_count": null,
   "id": "46e96c01-5d0d-4ff1-901d-2a51b4cd617a",
   "metadata": {},
   "outputs": [],
   "source": [
    "df.write.format(\"delta\").partitionBy(\"partitionColumn\").mode(\"overwrite\").save(delta_table_path)"
   ]
  },
  {
   "cell_type": "code",
   "execution_count": null,
   "id": "92391e3f-c017-4e31-8698-242ff5e3c2f0",
   "metadata": {},
   "outputs": [],
   "source": [
    "df.write.format(\"delta\").mode(\"overwrite\").saveAsTable(\"database_name.table_name\")\n"
   ]
  },
  {
   "cell_type": "code",
   "execution_count": null,
   "id": "cf3671fc-6c51-4a1f-8308-b498a08c74fc",
   "metadata": {},
   "outputs": [],
   "source": []
  },
  {
   "cell_type": "code",
   "execution_count": null,
   "id": "83930930-cff9-4305-bc3a-43999882215c",
   "metadata": {},
   "outputs": [],
   "source": []
  },
  {
   "cell_type": "code",
   "execution_count": null,
   "id": "185f06b7-efba-440f-a27b-ca6485a81d76",
   "metadata": {},
   "outputs": [],
   "source": []
  }
 ],
 "metadata": {
  "kernelspec": {
   "display_name": "Python 3 (ipykernel)",
   "language": "python",
   "name": "python3"
  },
  "language_info": {
   "codemirror_mode": {
    "name": "ipython",
    "version": 3
   },
   "file_extension": ".py",
   "mimetype": "text/x-python",
   "name": "python",
   "nbconvert_exporter": "python",
   "pygments_lexer": "ipython3",
   "version": "3.9.18"
  }
 },
 "nbformat": 4,
 "nbformat_minor": 5
}
